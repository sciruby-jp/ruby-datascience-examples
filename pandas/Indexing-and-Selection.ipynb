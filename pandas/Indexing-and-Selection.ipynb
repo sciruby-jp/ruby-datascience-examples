{
 "cells": [
  {
   "cell_type": "markdown",
   "metadata": {
    "collapsed": true
   },
   "source": [
    "# Data Indexing and Selection\n",
    "\n",
    "ここでは、`Daru::Vector`や`Daru::DataFrame`に格納された値を取得したり、それらの値を修正する方法を解説します。"
   ]
  },
  {
   "cell_type": "markdown",
   "metadata": {},
   "source": [
    "まずは、シンプルな一次元の`Vector`について説明します。その次に、もっと複雑な二次元の`DataFrame`について説明します。"
   ]
  },
  {
   "cell_type": "markdown",
   "metadata": {},
   "source": [
    "## Vector as Hash\n",
    "\n",
    "前章で見たように、`Vector`は一次元の`Array`のようにも、`Hash`のようにも扱えます。"
   ]
  },
  {
   "cell_type": "markdown",
   "metadata": {},
   "source": [
    "### Vector as Hash\n",
    "\n",
    "`Hash`と同様に、`Vector`は、`key`から`value`への対応付けを提供します。"
   ]
  },
  {
   "cell_type": "code",
   "execution_count": 1,
   "metadata": {},
   "outputs": [
    {
     "data": {
      "text/html": [
       "<table>\n",
       "  <tr>\n",
       "    <th colspan=\"2\">Daru::Vector(4)</th>\n",
       "  </tr>\n",
       "  \n",
       "\n",
       "  \n",
       "    <tr>\n",
       "      <td>a</td>\n",
       "      <td>0.25</td>\n",
       "    </tr>\n",
       "  \n",
       "    <tr>\n",
       "      <td>b</td>\n",
       "      <td>0.5</td>\n",
       "    </tr>\n",
       "  \n",
       "    <tr>\n",
       "      <td>c</td>\n",
       "      <td>0.75</td>\n",
       "    </tr>\n",
       "  \n",
       "    <tr>\n",
       "      <td>d</td>\n",
       "      <td>1.0</td>\n",
       "    </tr>\n",
       "  \n",
       "\n",
       "  \n",
       "</table>"
      ],
      "text/plain": [
       "#<Daru::Vector(4)>\n",
       "    a 0.25\n",
       "    b  0.5\n",
       "    c 0.75\n",
       "    d  1.0"
      ]
     },
     "execution_count": 1,
     "metadata": {},
     "output_type": "execute_result"
    }
   ],
   "source": [
    "require 'daru'\n",
    "\n",
    "vector = Daru::Vector.new(\n",
    "  [0.25, 0.5, 0.75, 1.0],\n",
    "  index: [:a, :b, :c, :d]\n",
    ")"
   ]
  },
  {
   "cell_type": "code",
   "execution_count": 2,
   "metadata": {},
   "outputs": [
    {
     "data": {
      "text/plain": [
       "0.5"
      ]
     },
     "execution_count": 2,
     "metadata": {},
     "output_type": "execute_result"
    }
   ],
   "source": [
    "vector[:b]"
   ]
  },
  {
   "cell_type": "code",
   "execution_count": 3,
   "metadata": {
    "scrolled": true
   },
   "outputs": [],
   "source": [
    "# vector.key? :b"
   ]
  },
  {
   "cell_type": "code",
   "execution_count": 4,
   "metadata": {},
   "outputs": [
    {
     "data": {
      "text/plain": [
       "#<Daru::Index(4): {a, b, c, d}>"
      ]
     },
     "execution_count": 4,
     "metadata": {},
     "output_type": "execute_result"
    }
   ],
   "source": [
    "vector.index"
   ]
  },
  {
   "cell_type": "code",
   "execution_count": 5,
   "metadata": {},
   "outputs": [
    {
     "data": {
      "text/plain": [
       "{:a=>0.25, :b=>0.5, :c=>0.75, :d=>1.0}"
      ]
     },
     "execution_count": 5,
     "metadata": {},
     "output_type": "execute_result"
    }
   ],
   "source": [
    "vector.to_h"
   ]
  },
  {
   "cell_type": "code",
   "execution_count": 6,
   "metadata": {},
   "outputs": [],
   "source": [
    "# vector[:new_key] = 1.25"
   ]
  },
  {
   "cell_type": "markdown",
   "metadata": {},
   "source": [
    "### Vector as one-dimensional Array\n",
    "\n",
    "以下で示すとおり、組み込みの`Array`オブジェクトによく似た方法で、値を選択することができます。"
   ]
  },
  {
   "cell_type": "code",
   "execution_count": 7,
   "metadata": {},
   "outputs": [
    {
     "data": {
      "text/html": [
       "<table>\n",
       "  <tr>\n",
       "    <th colspan=\"2\">Daru::Vector(3)</th>\n",
       "  </tr>\n",
       "  \n",
       "\n",
       "  \n",
       "    <tr>\n",
       "      <td>a</td>\n",
       "      <td>0.25</td>\n",
       "    </tr>\n",
       "  \n",
       "    <tr>\n",
       "      <td>b</td>\n",
       "      <td>0.5</td>\n",
       "    </tr>\n",
       "  \n",
       "    <tr>\n",
       "      <td>c</td>\n",
       "      <td>0.75</td>\n",
       "    </tr>\n",
       "  \n",
       "\n",
       "  \n",
       "</table>"
      ],
      "text/plain": [
       "#<Daru::Vector(3)>\n",
       "    a 0.25\n",
       "    b  0.5\n",
       "    c 0.75"
      ]
     },
     "execution_count": 7,
     "metadata": {},
     "output_type": "execute_result"
    }
   ],
   "source": [
    "# slicing by explicit index\n",
    "vector[:a..:c]"
   ]
  },
  {
   "cell_type": "code",
   "execution_count": 8,
   "metadata": {},
   "outputs": [
    {
     "data": {
      "text/html": [
       "<table>\n",
       "  <tr>\n",
       "    <th colspan=\"2\">Daru::Vector(3)</th>\n",
       "  </tr>\n",
       "  \n",
       "\n",
       "  \n",
       "    <tr>\n",
       "      <td>a</td>\n",
       "      <td>0.25</td>\n",
       "    </tr>\n",
       "  \n",
       "    <tr>\n",
       "      <td>b</td>\n",
       "      <td>0.5</td>\n",
       "    </tr>\n",
       "  \n",
       "    <tr>\n",
       "      <td>c</td>\n",
       "      <td>0.75</td>\n",
       "    </tr>\n",
       "  \n",
       "\n",
       "  \n",
       "</table>"
      ],
      "text/plain": [
       "#<Daru::Vector(3)>\n",
       "    a 0.25\n",
       "    b  0.5\n",
       "    c 0.75"
      ]
     },
     "execution_count": 8,
     "metadata": {},
     "output_type": "execute_result"
    }
   ],
   "source": [
    "# slicing by implicit integer index\n",
    "# 将来なくなるかも(https://github.com/v0dro/daru/issues/283)\n",
    "vector[0..2]"
   ]
  },
  {
   "cell_type": "code",
   "execution_count": 93,
   "metadata": {},
   "outputs": [
    {
     "data": {
      "text/html": [
       "<table>\n",
       "  <tr>\n",
       "    <th colspan=\"2\">Daru::Vector(2)</th>\n",
       "  </tr>\n",
       "  \n",
       "\n",
       "  \n",
       "    <tr>\n",
       "      <td>b</td>\n",
       "      <td>0.5</td>\n",
       "    </tr>\n",
       "  \n",
       "    <tr>\n",
       "      <td>c</td>\n",
       "      <td>0.75</td>\n",
       "    </tr>\n",
       "  \n",
       "\n",
       "  \n",
       "</table>"
      ],
      "text/plain": [
       "#<Daru::Vector(2)>\n",
       "    b  0.5\n",
       "    c 0.75"
      ]
     },
     "execution_count": 93,
     "metadata": {},
     "output_type": "execute_result"
    }
   ],
   "source": [
    "# masking\n",
    "# 組み込みのArrayにこういう機能はない（強いて言うならArray#select？）。ちょっと変な感じ。\n",
    "vector.where((vector.gt 0.3) & (vector.lt 0.8))"
   ]
  },
  {
   "cell_type": "code",
   "execution_count": 10,
   "metadata": {},
   "outputs": [
    {
     "data": {
      "text/html": [
       "<table>\n",
       "  <tr>\n",
       "    <th colspan=\"2\">Daru::Vector(2)</th>\n",
       "  </tr>\n",
       "  \n",
       "\n",
       "  \n",
       "    <tr>\n",
       "      <td>a</td>\n",
       "      <td>0.25</td>\n",
       "    </tr>\n",
       "  \n",
       "    <tr>\n",
       "      <td>d</td>\n",
       "      <td>1.0</td>\n",
       "    </tr>\n",
       "  \n",
       "\n",
       "  \n",
       "</table>"
      ],
      "text/plain": [
       "#<Daru::Vector(2)>\n",
       "    a 0.25\n",
       "    d  1.0"
      ]
     },
     "execution_count": 10,
     "metadata": {},
     "output_type": "execute_result"
    }
   ],
   "source": [
    "# fancy index\n",
    "vector[:a, :d]"
   ]
  },
  {
   "cell_type": "markdown",
   "metadata": {},
   "source": [
    "## Data Selection in DataFrame"
   ]
  },
  {
   "cell_type": "markdown",
   "metadata": {},
   "source": [
    "### DataFrame as a Hash"
   ]
  },
  {
   "cell_type": "markdown",
   "metadata": {},
   "source": [
    "１つめのアナロジーとして、`DataFrame`は`Vector`の`Hash`だと考えてみましょう："
   ]
  },
  {
   "cell_type": "code",
   "execution_count": 11,
   "metadata": {},
   "outputs": [
    {
     "data": {
      "text/html": [
       "<table>\n",
       "  <tr>\n",
       "    <th colspan='3'>Daru::DataFrame(5x2)</th>\n",
       "  </tr>\n",
       "\n",
       "  \n",
       "    <tr>\n",
       "      <th></th>\n",
       "      \n",
       "        <th>area</th>\n",
       "      \n",
       "        <th>pop</th>\n",
       "      \n",
       "    </tr>\n",
       "  \n",
       "\n",
       "  \n",
       "    <tr>\n",
       "      <td>California</td>\n",
       "      \n",
       "        <td>423967</td>\n",
       "      \n",
       "        <td>38332521</td>\n",
       "      \n",
       "    </tr>\n",
       "  \n",
       "    <tr>\n",
       "      <td>Texas</td>\n",
       "      \n",
       "        <td>695662</td>\n",
       "      \n",
       "        <td>26448193</td>\n",
       "      \n",
       "    </tr>\n",
       "  \n",
       "    <tr>\n",
       "      <td>NewYork</td>\n",
       "      \n",
       "        <td>141297</td>\n",
       "      \n",
       "        <td>19651127</td>\n",
       "      \n",
       "    </tr>\n",
       "  \n",
       "    <tr>\n",
       "      <td>Florida</td>\n",
       "      \n",
       "        <td>170312</td>\n",
       "      \n",
       "        <td>19552860</td>\n",
       "      \n",
       "    </tr>\n",
       "  \n",
       "    <tr>\n",
       "      <td>Illinois</td>\n",
       "      \n",
       "        <td>149995</td>\n",
       "      \n",
       "        <td>12882135</td>\n",
       "      \n",
       "    </tr>\n",
       "  \n",
       "\n",
       "  \n",
       "</table>"
      ],
      "text/plain": [
       "#<Daru::DataFrame(5x2)>\n",
       "                  area        pop\n",
       " California     423967   38332521\n",
       "      Texas     695662   26448193\n",
       "    NewYork     141297   19651127\n",
       "    Florida     170312   19552860\n",
       "   Illinois     149995   12882135"
      ]
     },
     "execution_count": 11,
     "metadata": {},
     "output_type": "execute_result"
    }
   ],
   "source": [
    "area = Daru::Vector.new(\n",
    "  {\n",
    "    California: 423967, Texas: 695662,\n",
    "    NewYork: 141297, Florida: 170312,\n",
    "    Illinois: 149995\n",
    "  }\n",
    ")\n",
    "pop = Daru::Vector.new(\n",
    "  {\n",
    "    California: 38332521, Texas: 26448193,\n",
    "    NewYork: 19651127, Florida: 19552860,\n",
    "    Illinois: 12882135\n",
    "  }\n",
    ")\n",
    "dataframe = Daru::DataFrame.new({area:area, pop:pop})"
   ]
  },
  {
   "cell_type": "markdown",
   "metadata": {},
   "source": [
    "`DataFrame`に含まれる`Vector`には、bracket（`[]`）を使ってアクセスすることができます："
   ]
  },
  {
   "cell_type": "code",
   "execution_count": 12,
   "metadata": {},
   "outputs": [
    {
     "data": {
      "text/html": [
       "<table>\n",
       "  <tr>\n",
       "    <th colspan=\"2\">Daru::Vector(5)</th>\n",
       "  </tr>\n",
       "  \n",
       "\n",
       "  \n",
       "    <tr>\n",
       "      <td>California</td>\n",
       "      <td>423967</td>\n",
       "    </tr>\n",
       "  \n",
       "    <tr>\n",
       "      <td>Texas</td>\n",
       "      <td>695662</td>\n",
       "    </tr>\n",
       "  \n",
       "    <tr>\n",
       "      <td>NewYork</td>\n",
       "      <td>141297</td>\n",
       "    </tr>\n",
       "  \n",
       "    <tr>\n",
       "      <td>Florida</td>\n",
       "      <td>170312</td>\n",
       "    </tr>\n",
       "  \n",
       "    <tr>\n",
       "      <td>Illinois</td>\n",
       "      <td>149995</td>\n",
       "    </tr>\n",
       "  \n",
       "\n",
       "  \n",
       "</table>"
      ],
      "text/plain": [
       "#<Daru::Vector(5)>\n",
       " California     423967\n",
       "      Texas     695662\n",
       "    NewYork     141297\n",
       "    Florida     170312\n",
       "   Illinois     149995"
      ]
     },
     "execution_count": 12,
     "metadata": {},
     "output_type": "execute_result"
    }
   ],
   "source": [
    "dataframe[:area]"
   ]
  },
  {
   "cell_type": "markdown",
   "metadata": {},
   "source": [
    "列の名前が`String`や`Symbol`の場合は、メソッド呼び出しによってもアクセスすることができます："
   ]
  },
  {
   "cell_type": "code",
   "execution_count": 13,
   "metadata": {},
   "outputs": [
    {
     "data": {
      "text/html": [
       "<table>\n",
       "  <tr>\n",
       "    <th colspan=\"2\">Daru::Vector(5)</th>\n",
       "  </tr>\n",
       "  \n",
       "\n",
       "  \n",
       "    <tr>\n",
       "      <td>California</td>\n",
       "      <td>423967</td>\n",
       "    </tr>\n",
       "  \n",
       "    <tr>\n",
       "      <td>Texas</td>\n",
       "      <td>695662</td>\n",
       "    </tr>\n",
       "  \n",
       "    <tr>\n",
       "      <td>NewYork</td>\n",
       "      <td>141297</td>\n",
       "    </tr>\n",
       "  \n",
       "    <tr>\n",
       "      <td>Florida</td>\n",
       "      <td>170312</td>\n",
       "    </tr>\n",
       "  \n",
       "    <tr>\n",
       "      <td>Illinois</td>\n",
       "      <td>149995</td>\n",
       "    </tr>\n",
       "  \n",
       "\n",
       "  \n",
       "</table>"
      ],
      "text/plain": [
       "#<Daru::Vector(5)>\n",
       " California     423967\n",
       "      Texas     695662\n",
       "    NewYork     141297\n",
       "    Florida     170312\n",
       "   Illinois     149995"
      ]
     },
     "execution_count": 13,
     "metadata": {},
     "output_type": "execute_result"
    }
   ],
   "source": [
    "dataframe.area"
   ]
  },
  {
   "cell_type": "markdown",
   "metadata": {},
   "source": [
    "どちらの記法を使っても、アクセスされるオブジェクトは同一です："
   ]
  },
  {
   "cell_type": "code",
   "execution_count": 14,
   "metadata": {},
   "outputs": [
    {
     "data": {
      "text/plain": [
       "true"
      ]
     },
     "execution_count": 14,
     "metadata": {},
     "output_type": "execute_result"
    }
   ],
   "source": [
    "dataframe.area.equal? dataframe[:area]"
   ]
  },
  {
   "cell_type": "markdown",
   "metadata": {},
   "source": [
    "メソッド呼び出しは便利な機能ですが、動作しないこともあります。例えば、列の名前が`String`や`Symbol`でない場合や、列の名前が`DataFrame`のメソッドと衝突する場合などは動作しません。"
   ]
  },
  {
   "cell_type": "markdown",
   "metadata": {},
   "source": [
    "bracketによって、オブジェクトを修正する事ができます："
   ]
  },
  {
   "cell_type": "code",
   "execution_count": 15,
   "metadata": {},
   "outputs": [
    {
     "data": {
      "text/html": [
       "<table>\n",
       "  <tr>\n",
       "    <th colspan='4'>Daru::DataFrame(5x3)</th>\n",
       "  </tr>\n",
       "\n",
       "  \n",
       "    <tr>\n",
       "      <th></th>\n",
       "      \n",
       "        <th>area</th>\n",
       "      \n",
       "        <th>pop</th>\n",
       "      \n",
       "        <th>density</th>\n",
       "      \n",
       "    </tr>\n",
       "  \n",
       "\n",
       "  \n",
       "    <tr>\n",
       "      <td>California</td>\n",
       "      \n",
       "        <td>423967</td>\n",
       "      \n",
       "        <td>38332521</td>\n",
       "      \n",
       "        <td>90</td>\n",
       "      \n",
       "    </tr>\n",
       "  \n",
       "    <tr>\n",
       "      <td>Texas</td>\n",
       "      \n",
       "        <td>695662</td>\n",
       "      \n",
       "        <td>26448193</td>\n",
       "      \n",
       "        <td>38</td>\n",
       "      \n",
       "    </tr>\n",
       "  \n",
       "    <tr>\n",
       "      <td>NewYork</td>\n",
       "      \n",
       "        <td>141297</td>\n",
       "      \n",
       "        <td>19651127</td>\n",
       "      \n",
       "        <td>139</td>\n",
       "      \n",
       "    </tr>\n",
       "  \n",
       "    <tr>\n",
       "      <td>Florida</td>\n",
       "      \n",
       "        <td>170312</td>\n",
       "      \n",
       "        <td>19552860</td>\n",
       "      \n",
       "        <td>114</td>\n",
       "      \n",
       "    </tr>\n",
       "  \n",
       "    <tr>\n",
       "      <td>Illinois</td>\n",
       "      \n",
       "        <td>149995</td>\n",
       "      \n",
       "        <td>12882135</td>\n",
       "      \n",
       "        <td>85</td>\n",
       "      \n",
       "    </tr>\n",
       "  \n",
       "\n",
       "  \n",
       "</table>"
      ],
      "text/plain": [
       "#<Daru::DataFrame(5x3)>\n",
       "                  area        pop    density\n",
       " California     423967   38332521         90\n",
       "      Texas     695662   26448193         38\n",
       "    NewYork     141297   19651127        139\n",
       "    Florida     170312   19552860        114\n",
       "   Illinois     149995   12882135         85"
      ]
     },
     "execution_count": 15,
     "metadata": {},
     "output_type": "execute_result"
    }
   ],
   "source": [
    "dataframe[:density] = dataframe[:pop] / dataframe[:area]\n",
    "dataframe"
   ]
  },
  {
   "cell_type": "markdown",
   "metadata": {},
   "source": [
    "### DataFrame as two-dimensional Array\n",
    "\n",
    "別のアナロジーとして、`DataFrame`を二次元の`Array`と見ることもできます。`DataFrame`の内部にある生の`Array`は、`values`メソッドでアクセスできます："
   ]
  },
  {
   "cell_type": "code",
   "execution_count": null,
   "metadata": {
    "collapsed": true
   },
   "outputs": [],
   "source": [
    "# dataframe.values"
   ]
  },
  {
   "cell_type": "markdown",
   "metadata": {},
   "source": [
    "DataFrameに対して、多くの行列処理をすることができます。例えば、行と列を入れ替えた`DataFrame`は、以下のようにして取得することができます："
   ]
  },
  {
   "cell_type": "code",
   "execution_count": 49,
   "metadata": {},
   "outputs": [
    {
     "data": {
      "text/html": [
       "<table>\n",
       "  <tr>\n",
       "    <th colspan='6'>Daru::DataFrame(3x5)</th>\n",
       "  </tr>\n",
       "\n",
       "  \n",
       "    <tr>\n",
       "      <th></th>\n",
       "      \n",
       "        <th>California</th>\n",
       "      \n",
       "        <th>Texas</th>\n",
       "      \n",
       "        <th>NewYork</th>\n",
       "      \n",
       "        <th>Florida</th>\n",
       "      \n",
       "        <th>Illinois</th>\n",
       "      \n",
       "    </tr>\n",
       "  \n",
       "\n",
       "  \n",
       "    <tr>\n",
       "      <td>area</td>\n",
       "      \n",
       "        <td>423967</td>\n",
       "      \n",
       "        <td>695662</td>\n",
       "      \n",
       "        <td>141297</td>\n",
       "      \n",
       "        <td>170312</td>\n",
       "      \n",
       "        <td>149995</td>\n",
       "      \n",
       "    </tr>\n",
       "  \n",
       "    <tr>\n",
       "      <td>pop</td>\n",
       "      \n",
       "        <td>38332521</td>\n",
       "      \n",
       "        <td>26448193</td>\n",
       "      \n",
       "        <td>19651127</td>\n",
       "      \n",
       "        <td>19552860</td>\n",
       "      \n",
       "        <td>12882135</td>\n",
       "      \n",
       "    </tr>\n",
       "  \n",
       "    <tr>\n",
       "      <td>density</td>\n",
       "      \n",
       "        <td>90</td>\n",
       "      \n",
       "        <td>38</td>\n",
       "      \n",
       "        <td>139</td>\n",
       "      \n",
       "        <td>114</td>\n",
       "      \n",
       "        <td>85</td>\n",
       "      \n",
       "    </tr>\n",
       "  \n",
       "\n",
       "  \n",
       "</table>"
      ],
      "text/plain": [
       "#<Daru::DataFrame(3x5)>\n",
       "            California      Texas    NewYork    Florida   Illinois\n",
       "       area     423967     695662     141297     170312     149995\n",
       "        pop   38332521   26448193   19651127   19552860   12882135\n",
       "    density         90         38        139        114         85"
      ]
     },
     "execution_count": 49,
     "metadata": {},
     "output_type": "execute_result"
    }
   ],
   "source": [
    "dataframe.transpose"
   ]
  },
  {
   "cell_type": "code",
   "execution_count": 54,
   "metadata": {
    "collapsed": true
   },
   "outputs": [],
   "source": [
    "# このへん何がいいたいのかわからない\n",
    "# dataframe.values[0]"
   ]
  },
  {
   "cell_type": "code",
   "execution_count": 51,
   "metadata": {},
   "outputs": [
    {
     "data": {
      "text/html": [
       "<table>\n",
       "  <tr>\n",
       "    <th colspan=\"2\">Daru::Vector(5)</th>\n",
       "  </tr>\n",
       "  \n",
       "\n",
       "  \n",
       "    <tr>\n",
       "      <td>California</td>\n",
       "      <td>423967</td>\n",
       "    </tr>\n",
       "  \n",
       "    <tr>\n",
       "      <td>Texas</td>\n",
       "      <td>695662</td>\n",
       "    </tr>\n",
       "  \n",
       "    <tr>\n",
       "      <td>NewYork</td>\n",
       "      <td>141297</td>\n",
       "    </tr>\n",
       "  \n",
       "    <tr>\n",
       "      <td>Florida</td>\n",
       "      <td>170312</td>\n",
       "    </tr>\n",
       "  \n",
       "    <tr>\n",
       "      <td>Illinois</td>\n",
       "      <td>149995</td>\n",
       "    </tr>\n",
       "  \n",
       "\n",
       "  \n",
       "</table>"
      ],
      "text/plain": [
       "#<Daru::Vector(5)>\n",
       " California     423967\n",
       "      Texas     695662\n",
       "    NewYork     141297\n",
       "    Florida     170312\n",
       "   Illinois     149995"
      ]
     },
     "execution_count": 51,
     "metadata": {},
     "output_type": "execute_result"
    }
   ],
   "source": [
    "# このへん何がいいたいのかわからない\n",
    "dataframe[:area]"
   ]
  },
  {
   "cell_type": "markdown",
   "metadata": {},
   "source": [
    "次のように、`at`メソッドを使って、行と列のそれぞれの暗黙的インデックスを指定して、所望の範囲の値にアクセスすることもできます："
   ]
  },
  {
   "cell_type": "code",
   "execution_count": 61,
   "metadata": {},
   "outputs": [
    {
     "data": {
      "text/html": [
       "<table>\n",
       "  <tr>\n",
       "    <th colspan='3'>Daru::DataFrame(3x2)</th>\n",
       "  </tr>\n",
       "\n",
       "  \n",
       "    <tr>\n",
       "      <th></th>\n",
       "      \n",
       "        <th>area</th>\n",
       "      \n",
       "        <th>pop</th>\n",
       "      \n",
       "    </tr>\n",
       "  \n",
       "\n",
       "  \n",
       "    <tr>\n",
       "      <td>California</td>\n",
       "      \n",
       "        <td>423967</td>\n",
       "      \n",
       "        <td>38332521</td>\n",
       "      \n",
       "    </tr>\n",
       "  \n",
       "    <tr>\n",
       "      <td>Texas</td>\n",
       "      \n",
       "        <td>695662</td>\n",
       "      \n",
       "        <td>26448193</td>\n",
       "      \n",
       "    </tr>\n",
       "  \n",
       "    <tr>\n",
       "      <td>NewYork</td>\n",
       "      \n",
       "        <td>141297</td>\n",
       "      \n",
       "        <td>19651127</td>\n",
       "      \n",
       "    </tr>\n",
       "  \n",
       "\n",
       "  \n",
       "</table>"
      ],
      "text/plain": [
       "#<Daru::DataFrame(3x2)>\n",
       "                  area        pop\n",
       " California     423967   38332521\n",
       "      Texas     695662   26448193\n",
       "    NewYork     141297   19651127"
      ]
     },
     "execution_count": 61,
     "metadata": {},
     "output_type": "execute_result"
    }
   ],
   "source": [
    "dataframe.at(0..1).row.at(0..2)"
   ]
  },
  {
   "cell_type": "markdown",
   "metadata": {},
   "source": [
    "同様に、`hoge`メソッドを使って、行と列のそれぞれの明示的インデックスを指定して、所望の範囲の値にアクセスすることもできます：\n",
    "\n",
    "（`loc`に相当するメソッドはない）"
   ]
  },
  {
   "cell_type": "code",
   "execution_count": 62,
   "metadata": {},
   "outputs": [],
   "source": [
    "# dataframe.hoge(:area..:pop).row.hoge(:Texas..:Florida)"
   ]
  },
  {
   "cell_type": "markdown",
   "metadata": {},
   "source": [
    "bracketを使えば、２つの記法をあわせたような方法で、所望の範囲の値にアクセスすることができます：\n",
    "\n",
    "（`pandas`では、\n",
    "```python\n",
    "data.ix[:3, :'pop']\n",
    "```\n",
    "のようにアクセスするから意味があるけど、`Daru::DataFrame`だと、\n",
    "```ruby\n",
    "dataframe[:area..:pop].row.at(0..2)\n",
    "```\n",
    "みたいにアクセスすることになるので、「`[]`がexplicit indexとimplicit indexの両方を許容する」という特長が関係なくなる。）"
   ]
  },
  {
   "cell_type": "code",
   "execution_count": 69,
   "metadata": {},
   "outputs": [
    {
     "data": {
      "text/html": [
       "<table>\n",
       "  <tr>\n",
       "    <th colspan='3'>Daru::DataFrame(3x2)</th>\n",
       "  </tr>\n",
       "\n",
       "  \n",
       "    <tr>\n",
       "      <th></th>\n",
       "      \n",
       "        <th>area</th>\n",
       "      \n",
       "        <th>pop</th>\n",
       "      \n",
       "    </tr>\n",
       "  \n",
       "\n",
       "  \n",
       "    <tr>\n",
       "      <td>California</td>\n",
       "      \n",
       "        <td>423967</td>\n",
       "      \n",
       "        <td>38332521</td>\n",
       "      \n",
       "    </tr>\n",
       "  \n",
       "    <tr>\n",
       "      <td>Texas</td>\n",
       "      \n",
       "        <td>695662</td>\n",
       "      \n",
       "        <td>26448193</td>\n",
       "      \n",
       "    </tr>\n",
       "  \n",
       "    <tr>\n",
       "      <td>NewYork</td>\n",
       "      \n",
       "        <td>141297</td>\n",
       "      \n",
       "        <td>19651127</td>\n",
       "      \n",
       "    </tr>\n",
       "  \n",
       "\n",
       "  \n",
       "</table>"
      ],
      "text/plain": [
       "#<Daru::DataFrame(3x2)>\n",
       "                  area        pop\n",
       " California     423967   38332521\n",
       "      Texas     695662   26448193\n",
       "    NewYork     141297   19651127"
      ]
     },
     "execution_count": 69,
     "metadata": {},
     "output_type": "execute_result"
    }
   ],
   "source": [
    "dataframe[:area..:pop].row[0..2]"
   ]
  },
  {
   "cell_type": "markdown",
   "metadata": {},
   "source": [
    "`where`と組み合わせる事もできます："
   ]
  },
  {
   "cell_type": "code",
   "execution_count": 72,
   "metadata": {},
   "outputs": [
    {
     "data": {
      "text/html": [
       "<table>\n",
       "  <tr>\n",
       "    <th colspan='3'>Daru::DataFrame(2x2)</th>\n",
       "  </tr>\n",
       "\n",
       "  \n",
       "    <tr>\n",
       "      <th></th>\n",
       "      \n",
       "        <th>pop</th>\n",
       "      \n",
       "        <th>density</th>\n",
       "      \n",
       "    </tr>\n",
       "  \n",
       "\n",
       "  \n",
       "    <tr>\n",
       "      <td>NewYork</td>\n",
       "      \n",
       "        <td>19651127</td>\n",
       "      \n",
       "        <td>139</td>\n",
       "      \n",
       "    </tr>\n",
       "  \n",
       "    <tr>\n",
       "      <td>Florida</td>\n",
       "      \n",
       "        <td>19552860</td>\n",
       "      \n",
       "        <td>114</td>\n",
       "      \n",
       "    </tr>\n",
       "  \n",
       "\n",
       "  \n",
       "</table>"
      ],
      "text/plain": [
       "#<Daru::DataFrame(2x2)>\n",
       "               pop  density\n",
       "  NewYork 19651127      139\n",
       "  Florida 19552860      114"
      ]
     },
     "execution_count": 72,
     "metadata": {},
     "output_type": "execute_result"
    }
   ],
   "source": [
    "dataframe.where(dataframe.density.gt 100)[:pop, :density]"
   ]
  },
  {
   "cell_type": "markdown",
   "metadata": {},
   "source": [
    "どのアクセスの方法も、データの修正や指定に使うことができます：\n",
    "\n",
    "（どのアクセスの方法でもできない）"
   ]
  },
  {
   "cell_type": "code",
   "execution_count": 86,
   "metadata": {
    "collapsed": true
   },
   "outputs": [],
   "source": [
    "# dataframe.at(0).at(2) = 90"
   ]
  }
 ],
 "metadata": {
  "kernelspec": {
   "display_name": "Ruby 2.4.1",
   "language": "ruby",
   "name": "ruby"
  },
  "language_info": {
   "file_extension": ".rb",
   "mimetype": "application/x-ruby",
   "name": "ruby",
   "version": "2.4.1"
  }
 },
 "nbformat": 4,
 "nbformat_minor": 1
}
