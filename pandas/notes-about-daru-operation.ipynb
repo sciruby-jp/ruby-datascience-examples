{
 "cells": [
  {
   "cell_type": "markdown",
   "metadata": {},
   "source": [
    "# ランダムな値で初期化できない\n",
    "\n",
    "もちろんコードを書けばできるが、\n",
    "```ruby\n",
    "Daru::DataFrame.new_from_shape(4,4){ |row, col| rand }\n",
    "```\n",
    "とか書きたい。それか、`Matrix.new.to_daru_dataframe`とかできるようにしてほしい。とはいえ、`Matrix`からnewできても仕方がないので、将来的には`NMatrix`とか`NArray`とかからnewできたらいいと思う。"
   ]
  },
  {
   "cell_type": "markdown",
   "metadata": {},
   "source": [
    "# Universal Functionが足りない\n",
    "\n",
    "足りてない関数は[たくさん](http://nbviewer.jupyter.org/github/jakevdp/PythonDataScienceHandbook/blob/master/notebooks/02.03-Computation-on-arrays-ufuncs.ipynb)ある。\n",
    "\n",
    "とはいえ、単に増やすだけだと、内部的にループ回すだけになるから意味ない。`Vector`/`DataFrame`の内部を`NArray`なり`NMatrix`なりに置き換えて、`NArray`なり`NMatrix`のUniversal Functionを呼ばないと速くはならない。"
   ]
  },
  {
   "cell_type": "markdown",
   "metadata": {},
   "source": [
    "# fill_valueを指定できない\n",
    "\n",
    "二項演算の結果`nil`になるセルに入れる値を指定できない。"
   ]
  },
  {
   "cell_type": "markdown",
   "metadata": {},
   "source": [
    "# 二項演算を、row-wiseにするのかcolumn-wiseにやるのか選べない\n",
    "\n",
    "`DataFrame`と`Vector`の間で二項演算をするとき、`Daru`では、`column-wise`に演算が行われる。つまり、`DataFrame`と`Vector`の間で二項演算をするときは、`DataFrame`に格納されている複数の`Vector`と、もう一方の`Vector`の間で二項演算が行われ、その結果が`DataFrame`に格納されるのである。\n",
    "\n",
    "`pandas`では逆で、`DataFrame`の各行と`Vector`との二項演算が行われ、その結果が`DataFrame`に格納される。また、`pandas`では、`row-wise`な演算だけでなく、`column-wise`な演算をすることもできる。一方、`Daru`ではそういうことはできない。\n"
   ]
  },
  {
   "cell_type": "markdown",
   "metadata": {},
   "source": [
    "# DataFrame#stackメソッドがない\n",
    "\n",
    "pandasにはある。`DataFrame`から、multi-indexedな`Vector`に変換するようなメソッド。"
   ]
  }
 ],
 "metadata": {
  "kernelspec": {
   "display_name": "Ruby 2.3.2",
   "language": "ruby",
   "name": "ruby"
  },
  "language_info": {
   "file_extension": ".rb",
   "mimetype": "application/x-ruby",
   "name": "ruby",
   "version": "2.3.2"
  }
 },
 "nbformat": 4,
 "nbformat_minor": 0
}
