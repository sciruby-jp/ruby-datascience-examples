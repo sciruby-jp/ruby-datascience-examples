{
 "cells": [
  {
   "cell_type": "code",
   "execution_count": 2,
   "metadata": {
    "collapsed": false
   },
   "outputs": [
    {
     "data": {
      "text/plain": [
       "true"
      ]
     },
     "execution_count": 2,
     "metadata": {},
     "output_type": "execute_result"
    }
   ],
   "source": [
    "require 'daru'"
   ]
  },
  {
   "cell_type": "markdown",
   "metadata": {},
   "source": [
    "# 所感"
   ]
  },
  {
   "cell_type": "markdown",
   "metadata": {},
   "source": [
    "まず前提として、pandasはバックエンドのデフォルトがnumpyである。\n",
    "すなわち、pandasの位置づけは、扱いづらいが高速計算のためには必須のnumpyを、扱いやすくするためのWrapperなのである。"
   ]
  },
  {
   "cell_type": "markdown",
   "metadata": {},
   "source": [
    "## HashからVectorを生成するときのIndex指定\n",
    "\n",
    "pandasでは、dictionaryからseriesを生成するときにindexを指定すると、指定したindexを持つ要素のみが、seriesに含まれるようになる。Daruでは、HashからVectorを生成するときにindexを指定しても意味がない。\n",
    "\n",
    "pandas:\n",
    "```python\n",
    "pd.Series({2: 'a', 1: 'b', 3: 'c'}, index=[3,2])\n",
    "#    3    c\n",
    "#    2    a\n",
    "#    dtype: object\n",
    "```\n",
    "\n",
    "Daru:\n",
    "```ruby\n",
    "Daru::Vector.new({a: 1, b: 2, c: 3}, index: [:b, :c])\n",
    "#    a    1\n",
    "#    b    2\n",
    "#    c    3\n",
    "```"
   ]
  },
  {
   "cell_type": "markdown",
   "metadata": {},
   "source": [
    "## スカラーからのDataFrameの生成\n",
    "\n",
    "`pandas`では、スカラーの値から`dataframe`が生成できるが、`daru`ではできない。\n",
    "\n",
    "pandas:\n",
    "```python\n",
    "pd.Series(5, index=[100,200,300])\n",
    "#    100    5\n",
    "#    200    5\n",
    "#    300    5\n",
    "#    dtype: int64\n",
    "```\n",
    "\n",
    "Daru:\n",
    "```ruby\n",
    "Daru::Vector.new(5, index: [100,200,300]) # => fails\n",
    "```"
   ]
  },
  {
   "cell_type": "markdown",
   "metadata": {},
   "source": [
    "## わかりづらい用語\n",
    "\n",
    "以下に示すように、daruでは**columns**に対応するものの名称が一定していない。\n",
    "\n",
    "### vectorsとcolumns\n",
    "pandasでは、**columns**メソッドによってdataframeの列インデックスを取得できる。daruでも同等のことができるが、用語がわかりづらい。\n",
    "daruでdataframeの列インデックスを取得する場合は、**vectors**メソッドを用いる。\n",
    "\n",
    "「列」の英名が\"column\"である以上、メソッド名はcolumnsの方が直感的と考えられる。また、vectorsメソッドは、例えば、`Daru::Vector`の`Array`を返すメソッドと勘違いされる可能性もある。\n",
    "\n",
    "### orderとcolumns\n",
    "dataframeを２次元配列から生成するとき、pandasでは列インデックスと行インデックスを指定することができる。daruでも同様のことができるが、用語がわかりづらい。pandasでdataframeを２次元配列から生成するとき、列インデックスを指定するには、**columns**オプション引数に配列を渡す。daruでも同様だが、その時のオプション引数の名前は**order**である。\n",
    "\n",
    "これも、上と同様の理由から、**columns**が妥当な命名と考えられる。\n"
   ]
  },
  {
   "cell_type": "markdown",
   "metadata": {},
   "source": [
    "## 一定しないインターフェース\n",
    "\n",
    "`Daru::Index#[]`は、引数として`Int`と`Range`を取る。\n",
    "\n",
    "引数として`Range`を与えた場合は、その値を**position**（添字）として解釈し、positionに対応するindexの値を返す：\n",
    "```ruby\n",
    "index = Daru::Index.new([2,3,5,7,11])\n",
    "index[0..2] #<Daru::Index(3): {2, 3, 5}>\n",
    "```\n",
    "\n",
    "しかし、`Int`を与えた場合、その値をindexの値として解釈し、その**position**を返す：\n",
    "```ruby\n",
    "index = Daru::Index.new([2,3,5,7,11])\n",
    "index[2] # 0\n",
    "```\n",
    "\n",
    "非常にわかりづらく、混乱を招く挙動だと感じた。\n",
    "\n",
    "\n",
    "なお、**position**からindexの値を取得するには、`Index#at`メソッドを使えば良い：\n",
    "```ruby\n",
    "index = Daru::Index.new([2,3,5,7,11])\n",
    "index.at(2) # 5\n",
    "```"
   ]
  },
  {
   "cell_type": "markdown",
   "metadata": {},
   "source": [
    "## 不足機能\n",
    "\n",
    "２つの`Daru::Index`の差分（差集合）を取るメソッドが存在しない（pandasでは`^`メソッド）。"
   ]
  }
 ],
 "metadata": {
  "kernelspec": {
   "display_name": "Ruby 2.3.2",
   "language": "ruby",
   "name": "ruby"
  },
  "language_info": {
   "file_extension": ".rb",
   "mimetype": "application/x-ruby",
   "name": "ruby",
   "version": "2.3.2"
  }
 },
 "nbformat": 4,
 "nbformat_minor": 0
}
