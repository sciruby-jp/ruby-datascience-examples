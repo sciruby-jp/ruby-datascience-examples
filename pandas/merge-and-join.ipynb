{
 "cells": [
  {
   "cell_type": "markdown",
   "metadata": {},
   "source": [
    "# データセットの統合 : Merge と Join\n",
    "Daruの重要な機能の1つは，データセットのマージです．"
   ]
  },
  {
   "cell_type": "markdown",
   "metadata": {},
   "source": [
    "## Join の種類\n",
    "ここでは3つのタイプのマージの簡単な例をまず示し，さらに詳細なオプションについて説明します．"
   ]
  },
  {
   "cell_type": "markdown",
   "metadata": {},
   "source": [
    "### 1対1 の Join\n",
    "最も基本的なマージは, 1対1のjoinです．具体的な例として，会社内の複数の従業員に関する情報を含む次の2つのDataFrameを考えてみます．"
   ]
  },
  {
   "cell_type": "code",
   "execution_count": 1,
   "metadata": {},
   "outputs": [
    {
     "data": {
      "text/plain": [
       "true"
      ]
     },
     "execution_count": 1,
     "metadata": {},
     "output_type": "execute_result"
    }
   ],
   "source": [
    "require \"daru\""
   ]
  },
  {
   "cell_type": "code",
   "execution_count": 2,
   "metadata": {},
   "outputs": [
    {
     "data": {
      "text/html": [
       "<table>\n",
       "  <tr>\n",
       "    <th colspan='3'>Daru::DataFrame(4x2)</th>\n",
       "  </tr>\n",
       "\n",
       "  \n",
       "    <tr>\n",
       "      <th></th>\n",
       "      \n",
       "        <th>employee</th>\n",
       "      \n",
       "        <th>group</th>\n",
       "      \n",
       "    </tr>\n",
       "  \n",
       "\n",
       "  \n",
       "    <tr>\n",
       "      <td>0</td>\n",
       "      \n",
       "        <td>Bob</td>\n",
       "      \n",
       "        <td>Accounting</td>\n",
       "      \n",
       "    </tr>\n",
       "  \n",
       "    <tr>\n",
       "      <td>1</td>\n",
       "      \n",
       "        <td>Jake</td>\n",
       "      \n",
       "        <td>Engineering</td>\n",
       "      \n",
       "    </tr>\n",
       "  \n",
       "    <tr>\n",
       "      <td>2</td>\n",
       "      \n",
       "        <td>Lisa</td>\n",
       "      \n",
       "        <td>Engineering</td>\n",
       "      \n",
       "    </tr>\n",
       "  \n",
       "    <tr>\n",
       "      <td>3</td>\n",
       "      \n",
       "        <td>Sue</td>\n",
       "      \n",
       "        <td>HR</td>\n",
       "      \n",
       "    </tr>\n",
       "  \n",
       "\n",
       "  \n",
       "</table>"
      ],
      "text/plain": [
       "#<Daru::DataFrame(4x2)>\n",
       "              employee      group\n",
       "          0        Bob Accounting\n",
       "          1       Jake Engineerin\n",
       "          2       Lisa Engineerin\n",
       "          3        Sue         HR"
      ]
     },
     "execution_count": 2,
     "metadata": {},
     "output_type": "execute_result"
    }
   ],
   "source": [
    "df1 = Daru::DataFrame.new({employee: ['Bob', 'Jake', 'Lisa', 'Sue'],\n",
    "                    group: ['Accounting', 'Engineering', 'Engineering', 'HR']})"
   ]
  },
  {
   "cell_type": "code",
   "execution_count": 3,
   "metadata": {},
   "outputs": [
    {
     "data": {
      "text/html": [
       "<table>\n",
       "  <tr>\n",
       "    <th colspan='3'>Daru::DataFrame(4x2)</th>\n",
       "  </tr>\n",
       "\n",
       "  \n",
       "    <tr>\n",
       "      <th></th>\n",
       "      \n",
       "        <th>employee</th>\n",
       "      \n",
       "        <th>hire_date</th>\n",
       "      \n",
       "    </tr>\n",
       "  \n",
       "\n",
       "  \n",
       "    <tr>\n",
       "      <td>0</td>\n",
       "      \n",
       "        <td>Lisa</td>\n",
       "      \n",
       "        <td>2004</td>\n",
       "      \n",
       "    </tr>\n",
       "  \n",
       "    <tr>\n",
       "      <td>1</td>\n",
       "      \n",
       "        <td>Bob</td>\n",
       "      \n",
       "        <td>2008</td>\n",
       "      \n",
       "    </tr>\n",
       "  \n",
       "    <tr>\n",
       "      <td>2</td>\n",
       "      \n",
       "        <td>Jake</td>\n",
       "      \n",
       "        <td>2012</td>\n",
       "      \n",
       "    </tr>\n",
       "  \n",
       "    <tr>\n",
       "      <td>3</td>\n",
       "      \n",
       "        <td>Sue</td>\n",
       "      \n",
       "        <td>2014</td>\n",
       "      \n",
       "    </tr>\n",
       "  \n",
       "\n",
       "  \n",
       "</table>"
      ],
      "text/plain": [
       "#<Daru::DataFrame(4x2)>\n",
       "            employee hire_date\n",
       "         0      Lisa      2004\n",
       "         1       Bob      2008\n",
       "         2      Jake      2012\n",
       "         3       Sue      2014"
      ]
     },
     "execution_count": 3,
     "metadata": {},
     "output_type": "execute_result"
    }
   ],
   "source": [
    "df2 = Daru::DataFrame.new({employee: ['Lisa', 'Bob', 'Jake', 'Sue'],\n",
    "                    hire_date: [2004, 2008, 2012, 2014]})"
   ]
  },
  {
   "cell_type": "markdown",
   "metadata": {},
   "source": [
    "これら情報を一つのDataFrameにまとめるには，Daru::DataFrame.join関数を使用します．"
   ]
  },
  {
   "cell_type": "code",
   "execution_count": 4,
   "metadata": {},
   "outputs": [
    {
     "data": {
      "text/html": [
       "<table>\n",
       "  <tr>\n",
       "    <th colspan='4'>Daru::DataFrame(4x3)</th>\n",
       "  </tr>\n",
       "\n",
       "  \n",
       "    <tr>\n",
       "      <th></th>\n",
       "      \n",
       "        <th>group</th>\n",
       "      \n",
       "        <th>employee</th>\n",
       "      \n",
       "        <th>hire_date</th>\n",
       "      \n",
       "    </tr>\n",
       "  \n",
       "\n",
       "  \n",
       "    <tr>\n",
       "      <td>0</td>\n",
       "      \n",
       "        <td>Accounting</td>\n",
       "      \n",
       "        <td>Bob</td>\n",
       "      \n",
       "        <td>2008</td>\n",
       "      \n",
       "    </tr>\n",
       "  \n",
       "    <tr>\n",
       "      <td>1</td>\n",
       "      \n",
       "        <td>Engineering</td>\n",
       "      \n",
       "        <td>Jake</td>\n",
       "      \n",
       "        <td>2012</td>\n",
       "      \n",
       "    </tr>\n",
       "  \n",
       "    <tr>\n",
       "      <td>2</td>\n",
       "      \n",
       "        <td>Engineering</td>\n",
       "      \n",
       "        <td>Lisa</td>\n",
       "      \n",
       "        <td>2004</td>\n",
       "      \n",
       "    </tr>\n",
       "  \n",
       "    <tr>\n",
       "      <td>3</td>\n",
       "      \n",
       "        <td>HR</td>\n",
       "      \n",
       "        <td>Sue</td>\n",
       "      \n",
       "        <td>2014</td>\n",
       "      \n",
       "    </tr>\n",
       "  \n",
       "\n",
       "  \n",
       "</table>"
      ],
      "text/plain": [
       "#<Daru::DataFrame(4x3)>\n",
       "                 group   employee  hire_date\n",
       "          0 Accounting        Bob       2008\n",
       "          1 Engineerin       Jake       2012\n",
       "          2 Engineerin       Lisa       2004\n",
       "          3         HR        Sue       2014"
      ]
     },
     "execution_count": 4,
     "metadata": {},
     "output_type": "execute_result"
    }
   ],
   "source": [
    "df3 = df1.join(df2, how: :inner, on: [:employee])"
   ]
  },
  {
   "cell_type": "markdown",
   "metadata": {},
   "source": [
    "ここでは `employee` 列をキーとして2つのDataFrameを結合しています．"
   ]
  },
  {
   "cell_type": "markdown",
   "metadata": {},
   "source": [
    "### 多対1 の Join\n",
    "多対1のJoinは、2つのキー列の1つに重複する項目が含まれている結合です。 その例を考えてみましょう。"
   ]
  },
  {
   "cell_type": "code",
   "execution_count": 5,
   "metadata": {},
   "outputs": [
    {
     "data": {
      "text/html": [
       "<table>\n",
       "  <tr>\n",
       "    <th colspan='3'>Daru::DataFrame(3x2)</th>\n",
       "  </tr>\n",
       "\n",
       "  \n",
       "    <tr>\n",
       "      <th></th>\n",
       "      \n",
       "        <th>group</th>\n",
       "      \n",
       "        <th>supervisor</th>\n",
       "      \n",
       "    </tr>\n",
       "  \n",
       "\n",
       "  \n",
       "    <tr>\n",
       "      <td>0</td>\n",
       "      \n",
       "        <td>Accounting</td>\n",
       "      \n",
       "        <td>Carly</td>\n",
       "      \n",
       "    </tr>\n",
       "  \n",
       "    <tr>\n",
       "      <td>1</td>\n",
       "      \n",
       "        <td>Engineering</td>\n",
       "      \n",
       "        <td>Guido</td>\n",
       "      \n",
       "    </tr>\n",
       "  \n",
       "    <tr>\n",
       "      <td>2</td>\n",
       "      \n",
       "        <td>HR</td>\n",
       "      \n",
       "        <td>Steve</td>\n",
       "      \n",
       "    </tr>\n",
       "  \n",
       "\n",
       "  \n",
       "</table>"
      ],
      "text/plain": [
       "#<Daru::DataFrame(3x2)>\n",
       "                 group supervisor\n",
       "          0 Accounting      Carly\n",
       "          1 Engineerin      Guido\n",
       "          2         HR      Steve"
      ]
     },
     "execution_count": 5,
     "metadata": {},
     "output_type": "execute_result"
    }
   ],
   "source": [
    "df4 = Daru::DataFrame.new({group: ['Accounting', 'Engineering', 'HR'],\n",
    "                    supervisor: ['Carly', 'Guido', 'Steve']})"
   ]
  },
  {
   "cell_type": "code",
   "execution_count": 6,
   "metadata": {},
   "outputs": [
    {
     "data": {
      "text/html": [
       "<table>\n",
       "  <tr>\n",
       "    <th colspan='5'>Daru::DataFrame(4x4)</th>\n",
       "  </tr>\n",
       "\n",
       "  \n",
       "    <tr>\n",
       "      <th></th>\n",
       "      \n",
       "        <th>employee</th>\n",
       "      \n",
       "        <th>hire_date</th>\n",
       "      \n",
       "        <th>group</th>\n",
       "      \n",
       "        <th>supervisor</th>\n",
       "      \n",
       "    </tr>\n",
       "  \n",
       "\n",
       "  \n",
       "    <tr>\n",
       "      <td>0</td>\n",
       "      \n",
       "        <td>Bob</td>\n",
       "      \n",
       "        <td>2008</td>\n",
       "      \n",
       "        <td>Accounting</td>\n",
       "      \n",
       "        <td>Carly</td>\n",
       "      \n",
       "    </tr>\n",
       "  \n",
       "    <tr>\n",
       "      <td>1</td>\n",
       "      \n",
       "        <td>Jake</td>\n",
       "      \n",
       "        <td>2012</td>\n",
       "      \n",
       "        <td>Engineering</td>\n",
       "      \n",
       "        <td>Guido</td>\n",
       "      \n",
       "    </tr>\n",
       "  \n",
       "    <tr>\n",
       "      <td>2</td>\n",
       "      \n",
       "        <td>Lisa</td>\n",
       "      \n",
       "        <td>2004</td>\n",
       "      \n",
       "        <td>Engineering</td>\n",
       "      \n",
       "        <td>Guido</td>\n",
       "      \n",
       "    </tr>\n",
       "  \n",
       "    <tr>\n",
       "      <td>3</td>\n",
       "      \n",
       "        <td>Sue</td>\n",
       "      \n",
       "        <td>2014</td>\n",
       "      \n",
       "        <td>HR</td>\n",
       "      \n",
       "        <td>Steve</td>\n",
       "      \n",
       "    </tr>\n",
       "  \n",
       "\n",
       "  \n",
       "</table>"
      ],
      "text/plain": [
       "#<Daru::DataFrame(4x4)>\n",
       "              employee  hire_date      group supervisor\n",
       "          0        Bob       2008 Accounting      Carly\n",
       "          1       Jake       2012 Engineerin      Guido\n",
       "          2       Lisa       2004 Engineerin      Guido\n",
       "          3        Sue       2014         HR      Steve"
      ]
     },
     "execution_count": 6,
     "metadata": {},
     "output_type": "execute_result"
    }
   ],
   "source": [
    "hoge = df3.join(df4, how: :outer, on: [:group])"
   ]
  },
  {
   "cell_type": "markdown",
   "metadata": {},
   "source": [
    "結果として得られるDataFrameであるhogeには，`supervisor` 情報を含む追加の列があり， `group` が `Engineering` の `Jake` と `Lisa` の行では `Guido` が繰り返し追加されています．"
   ]
  },
  {
   "cell_type": "markdown",
   "metadata": {},
   "source": [
    "### 多対多 の Join"
   ]
  },
  {
   "cell_type": "markdown",
   "metadata": {},
   "source": [
    "Join対象の両方のDataFrameのキー列に重複が含まれている場合，結果は多対多のマージになります．\n",
    "\n",
    "特定の`group`に関連付けられた1つ以上の`skills`を示すDataFrameがあるところで、次のことを考えてみましょう。"
   ]
  },
  {
   "cell_type": "code",
   "execution_count": 7,
   "metadata": {},
   "outputs": [
    {
     "data": {
      "text/html": [
       "<table>\n",
       "  <tr>\n",
       "    <th colspan='3'>Daru::DataFrame(4x2)</th>\n",
       "  </tr>\n",
       "\n",
       "  \n",
       "    <tr>\n",
       "      <th></th>\n",
       "      \n",
       "        <th>employee</th>\n",
       "      \n",
       "        <th>group</th>\n",
       "      \n",
       "    </tr>\n",
       "  \n",
       "\n",
       "  \n",
       "    <tr>\n",
       "      <td>0</td>\n",
       "      \n",
       "        <td>Bob</td>\n",
       "      \n",
       "        <td>Accounting</td>\n",
       "      \n",
       "    </tr>\n",
       "  \n",
       "    <tr>\n",
       "      <td>1</td>\n",
       "      \n",
       "        <td>Jake</td>\n",
       "      \n",
       "        <td>Engineering</td>\n",
       "      \n",
       "    </tr>\n",
       "  \n",
       "    <tr>\n",
       "      <td>2</td>\n",
       "      \n",
       "        <td>Lisa</td>\n",
       "      \n",
       "        <td>Engineering</td>\n",
       "      \n",
       "    </tr>\n",
       "  \n",
       "    <tr>\n",
       "      <td>3</td>\n",
       "      \n",
       "        <td>Sue</td>\n",
       "      \n",
       "        <td>HR</td>\n",
       "      \n",
       "    </tr>\n",
       "  \n",
       "\n",
       "  \n",
       "</table>"
      ],
      "text/plain": [
       "#<Daru::DataFrame(4x2)>\n",
       "              employee      group\n",
       "          0        Bob Accounting\n",
       "          1       Jake Engineerin\n",
       "          2       Lisa Engineerin\n",
       "          3        Sue         HR"
      ]
     },
     "execution_count": 7,
     "metadata": {},
     "output_type": "execute_result"
    }
   ],
   "source": [
    "df1"
   ]
  },
  {
   "cell_type": "code",
   "execution_count": 8,
   "metadata": {},
   "outputs": [
    {
     "data": {
      "text/html": [
       "<table>\n",
       "  <tr>\n",
       "    <th colspan='3'>Daru::DataFrame(6x2)</th>\n",
       "  </tr>\n",
       "\n",
       "  \n",
       "    <tr>\n",
       "      <th></th>\n",
       "      \n",
       "        <th>group</th>\n",
       "      \n",
       "        <th>skills</th>\n",
       "      \n",
       "    </tr>\n",
       "  \n",
       "\n",
       "  \n",
       "    <tr>\n",
       "      <td>0</td>\n",
       "      \n",
       "        <td>Accounting</td>\n",
       "      \n",
       "        <td>math</td>\n",
       "      \n",
       "    </tr>\n",
       "  \n",
       "    <tr>\n",
       "      <td>1</td>\n",
       "      \n",
       "        <td>Accounting</td>\n",
       "      \n",
       "        <td>spreadsheets</td>\n",
       "      \n",
       "    </tr>\n",
       "  \n",
       "    <tr>\n",
       "      <td>2</td>\n",
       "      \n",
       "        <td>Engineering</td>\n",
       "      \n",
       "        <td>coding</td>\n",
       "      \n",
       "    </tr>\n",
       "  \n",
       "    <tr>\n",
       "      <td>3</td>\n",
       "      \n",
       "        <td>Engineering</td>\n",
       "      \n",
       "        <td>linux</td>\n",
       "      \n",
       "    </tr>\n",
       "  \n",
       "    <tr>\n",
       "      <td>4</td>\n",
       "      \n",
       "        <td>HR</td>\n",
       "      \n",
       "        <td>spreadsheets</td>\n",
       "      \n",
       "    </tr>\n",
       "  \n",
       "    <tr>\n",
       "      <td>5</td>\n",
       "      \n",
       "        <td>HR</td>\n",
       "      \n",
       "        <td>organization</td>\n",
       "      \n",
       "    </tr>\n",
       "  \n",
       "\n",
       "  \n",
       "</table>"
      ],
      "text/plain": [
       "#<Daru::DataFrame(6x2)>\n",
       "                 group     skills\n",
       "          0 Accounting       math\n",
       "          1 Accounting spreadshee\n",
       "          2 Engineerin     coding\n",
       "          3 Engineerin      linux\n",
       "          4         HR spreadshee\n",
       "          5         HR organizati"
      ]
     },
     "execution_count": 8,
     "metadata": {},
     "output_type": "execute_result"
    }
   ],
   "source": [
    "df5 = Daru::DataFrame.new({group: ['Accounting', 'Accounting',\n",
    "                              'Engineering', 'Engineering', 'HR', 'HR'],\n",
    "                    skills: ['math', 'spreadsheets', 'coding', 'linux',\n",
    "                               'spreadsheets', 'organization']})"
   ]
  },
  {
   "cell_type": "code",
   "execution_count": 9,
   "metadata": {},
   "outputs": [
    {
     "data": {
      "text/html": [
       "<table>\n",
       "  <tr>\n",
       "    <th colspan='4'>Daru::DataFrame(8x3)</th>\n",
       "  </tr>\n",
       "\n",
       "  \n",
       "    <tr>\n",
       "      <th></th>\n",
       "      \n",
       "        <th>employee</th>\n",
       "      \n",
       "        <th>group</th>\n",
       "      \n",
       "        <th>skills</th>\n",
       "      \n",
       "    </tr>\n",
       "  \n",
       "\n",
       "  \n",
       "    <tr>\n",
       "      <td>0</td>\n",
       "      \n",
       "        <td>Bob</td>\n",
       "      \n",
       "        <td>Accounting</td>\n",
       "      \n",
       "        <td>math</td>\n",
       "      \n",
       "    </tr>\n",
       "  \n",
       "    <tr>\n",
       "      <td>1</td>\n",
       "      \n",
       "        <td>Bob</td>\n",
       "      \n",
       "        <td>Accounting</td>\n",
       "      \n",
       "        <td>spreadsheets</td>\n",
       "      \n",
       "    </tr>\n",
       "  \n",
       "    <tr>\n",
       "      <td>2</td>\n",
       "      \n",
       "        <td>Jake</td>\n",
       "      \n",
       "        <td>Engineering</td>\n",
       "      \n",
       "        <td>coding</td>\n",
       "      \n",
       "    </tr>\n",
       "  \n",
       "    <tr>\n",
       "      <td>3</td>\n",
       "      \n",
       "        <td>Jake</td>\n",
       "      \n",
       "        <td>Engineering</td>\n",
       "      \n",
       "        <td>linux</td>\n",
       "      \n",
       "    </tr>\n",
       "  \n",
       "    <tr>\n",
       "      <td>4</td>\n",
       "      \n",
       "        <td>Lisa</td>\n",
       "      \n",
       "        <td>Engineering</td>\n",
       "      \n",
       "        <td>coding</td>\n",
       "      \n",
       "    </tr>\n",
       "  \n",
       "    <tr>\n",
       "      <td>5</td>\n",
       "      \n",
       "        <td>Lisa</td>\n",
       "      \n",
       "        <td>Engineering</td>\n",
       "      \n",
       "        <td>linux</td>\n",
       "      \n",
       "    </tr>\n",
       "  \n",
       "    <tr>\n",
       "      <td>6</td>\n",
       "      \n",
       "        <td>Sue</td>\n",
       "      \n",
       "        <td>HR</td>\n",
       "      \n",
       "        <td>spreadsheets</td>\n",
       "      \n",
       "    </tr>\n",
       "  \n",
       "    <tr>\n",
       "      <td>7</td>\n",
       "      \n",
       "        <td>Sue</td>\n",
       "      \n",
       "        <td>HR</td>\n",
       "      \n",
       "        <td>organization</td>\n",
       "      \n",
       "    </tr>\n",
       "  \n",
       "\n",
       "  \n",
       "</table>"
      ],
      "text/plain": [
       "#<Daru::DataFrame(8x3)>\n",
       "              employee      group     skills\n",
       "          0        Bob Accounting       math\n",
       "          1        Bob Accounting spreadshee\n",
       "          2       Jake Engineerin     coding\n",
       "          3       Jake Engineerin      linux\n",
       "          4       Lisa Engineerin     coding\n",
       "          5       Lisa Engineerin      linux\n",
       "          6        Sue         HR spreadshee\n",
       "          7        Sue         HR organizati"
      ]
     },
     "execution_count": 9,
     "metadata": {},
     "output_type": "execute_result"
    }
   ],
   "source": [
    "piyo = df1.join(df5, how: :outer, on:[:group])"
   ]
  },
  {
   "cell_type": "markdown",
   "metadata": {},
   "source": [
    "次のセクションでは，Join操作の仕組みを調整するためのオプションについて説明します．"
   ]
  },
  {
   "cell_type": "code",
   "execution_count": null,
   "metadata": {
    "collapsed": true
   },
   "outputs": [],
   "source": []
  }
 ],
 "metadata": {
  "kernelspec": {
   "display_name": "Ruby 2.4.1",
   "language": "ruby",
   "name": "ruby"
  },
  "language_info": {
   "file_extension": ".rb",
   "mimetype": "application/x-ruby",
   "name": "ruby",
   "version": "2.4.1"
  }
 },
 "nbformat": 4,
 "nbformat_minor": 2
}
