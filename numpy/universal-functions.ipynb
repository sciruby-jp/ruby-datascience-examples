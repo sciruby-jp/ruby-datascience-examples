{
 "cells": [
  {
   "cell_type": "markdown",
   "metadata": {},
   "source": [
    "# Numo::NArray : Universal Functions"
   ]
  },
  {
   "cell_type": "markdown",
   "metadata": {},
   "source": [
    "`Numo::NArray`での計算は、書き方によって遅くなったり速くなったりします。高速化の鍵となるのは、 *Universal Function* です。"
   ]
  },
  {
   "cell_type": "markdown",
   "metadata": {},
   "source": [
    "例えば、`NArray`の要素の逆数を求めるという問題を考えてみましょう。"
   ]
  },
  {
   "cell_type": "markdown",
   "metadata": {},
   "source": [
    "## 遅い書き方：ループ"
   ]
  },
  {
   "cell_type": "markdown",
   "metadata": {},
   "source": [
    "素直にループを使って書くと、以下のようになるでしょう："
   ]
  },
  {
   "cell_type": "code",
   "execution_count": 1,
   "metadata": {
    "collapsed": false
   },
   "outputs": [
    {
     "data": {
      "text/plain": [
       "Numo::DFloat#shape=[5]\n",
       "[0.64276, 0.229484, 0.122649, 0.355951, 0.489149]"
      ]
     },
     "execution_count": 1,
     "metadata": {},
     "output_type": "execute_result"
    }
   ],
   "source": [
    "require 'numo/narray'\n",
    "\n",
    "def compute_reciprocals(values)\n",
    "  output = Numo::DFloat.zeros(values.length)\n",
    "  values.length.times do |i|\n",
    "    output[i] = 1.0 / values[i]\n",
    "  end\n",
    "  return output\n",
    "end\n",
    "\n",
    "values = Numo::DFloat.new(5).rand(1,10)\n",
    "compute_reciprocals(values)"
   ]
  },
  {
   "cell_type": "markdown",
   "metadata": {},
   "source": [
    "しかし、このアプローチでは、配列が大きいときにとても時間がかかります："
   ]
  },
  {
   "cell_type": "code",
   "execution_count": 2,
   "metadata": {
    "collapsed": false
   },
   "outputs": [
    {
     "name": "stdout",
     "output_type": "stream",
     "text": [
      "       user     system      total        real\n",
      "rec  1.950000   0.030000   1.980000 (  1.979000)\n"
     ]
    }
   ],
   "source": [
    "require 'benchmark'\n",
    "\n",
    "big_array = Numo::DFloat.new(10000000).rand(1,100)\n",
    "Benchmark.bm do |r|\n",
    "  r.report 'rec' do\n",
    "    compute_reciprocals(big_array)\n",
    "  end\n",
    "end\n",
    "nil"
   ]
  },
  {
   "cell_type": "markdown",
   "metadata": {},
   "source": [
    "上の例では、$10^8$個の要素の逆数を求めるのに、2秒程度かかっています。"
   ]
  },
  {
   "cell_type": "markdown",
   "metadata": {},
   "source": [
    "## 速い書き方：Universal Functions"
   ]
  },
  {
   "cell_type": "markdown",
   "metadata": {},
   "source": [
    "`NArray`は、幾つかの演算について、Universal Functionを提供しています。Universal Functionを使うことで、先ほどの演算は、次のように書けます："
   ]
  },
  {
   "cell_type": "code",
   "execution_count": 3,
   "metadata": {
    "collapsed": false
   },
   "outputs": [
    {
     "name": "stdout",
     "output_type": "stream",
     "text": [
      "Numo::DFloat#shape=[5]\n",
      "[0.64276, 0.229484, 0.122649, 0.355951, 0.489149]\n",
      "Numo::DFloat#shape=[5]\n",
      "[0.64276, 0.229484, 0.122649, 0.355951, 0.489149]\n"
     ]
    }
   ],
   "source": [
    "p compute_reciprocals(values)\n",
    "p (1.0 / values)\n",
    "nil"
   ]
  },
  {
   "cell_type": "markdown",
   "metadata": {},
   "source": [
    "先程と同様に、計算時間を計測してみましょう："
   ]
  },
  {
   "cell_type": "code",
   "execution_count": 4,
   "metadata": {
    "collapsed": false
   },
   "outputs": [
    {
     "name": "stdout",
     "output_type": "stream",
     "text": [
      "       user     system      total        real\n",
      "rec  0.060000   0.030000   0.090000 (  0.140044)\n"
     ]
    }
   ],
   "source": [
    "Benchmark.bm do |r|\n",
    "  r.report 'rec' do\n",
    "    1.0 / big_array\n",
    "  end\n",
    "end\n",
    "nil"
   ]
  },
  {
   "cell_type": "markdown",
   "metadata": {},
   "source": [
    "上のように、$10^8$個の要素の逆数を求めるのにかかる時間が、70ms程度まで短縮されていることがわかります。"
   ]
  },
  {
   "cell_type": "markdown",
   "metadata": {},
   "source": [
    "ufuncは、2つの`NArray`に対して適用することもできます："
   ]
  },
  {
   "cell_type": "code",
   "execution_count": 5,
   "metadata": {
    "collapsed": false
   },
   "outputs": [
    {
     "data": {
      "text/plain": [
       "Numo::DFloat#shape=[5]\n",
       "[0.5, 0.666667, 0.75, 0.8, 0.833333]"
      ]
     },
     "execution_count": 5,
     "metadata": {},
     "output_type": "execute_result"
    }
   ],
   "source": [
    "Numo::DFloat.new(5).seq(1) / Numo::DFloat.new(5).seq(2)"
   ]
  },
  {
   "cell_type": "markdown",
   "metadata": {},
   "source": [
    "多次元の`NArray`に対して使うこともできます："
   ]
  },
  {
   "cell_type": "code",
   "execution_count": 6,
   "metadata": {
    "collapsed": false
   },
   "outputs": [
    {
     "data": {
      "text/plain": [
       "Numo::Int32#shape=[3,3]\n",
       "[[1, 2, 4], \n",
       " [8, 16, 32], \n",
       " [64, 128, 256]]"
      ]
     },
     "execution_count": 6,
     "metadata": {},
     "output_type": "execute_result"
    }
   ],
   "source": [
    "2 ** Numo::Int32.new(3,3).seq"
   ]
  },
  {
   "cell_type": "markdown",
   "metadata": {},
   "source": [
    "## ufuncの使い方"
   ]
  },
  {
   "cell_type": "markdown",
   "metadata": {},
   "source": [
    "`NArray`のufuncとして、四則演算(`+-*/`)の他に、negation(`-`)や、累乗(`**`)、剰余(`%`)があります："
   ]
  },
  {
   "cell_type": "code",
   "execution_count": 16,
   "metadata": {
    "collapsed": false
   },
   "outputs": [
    {
     "name": "stdout",
     "output_type": "stream",
     "text": [
      "x      = [0.0, 1.0, 2.0, 3.0]\n",
      "x + 5  = [5.0, 6.0, 7.0, 8.0]\n",
      "x - 5  = [-5.0, -4.0, -3.0, -2.0]\n",
      "x * 2  = [0.0, 2.0, 4.0, 6.0]\n",
      "x / 2  = [0.0, 0.5, 1.0, 1.5]\n",
      "-x     = [-0.0, -1.0, -2.0, -3.0]\n",
      "x ** 2 = [0.0, 1.0, 4.0, 9.0]\n",
      "x % 2  = [0.0, 1.0, 0.0, 1.0]\n"
     ]
    }
   ],
   "source": [
    "x = Numo::DFloat.new(4).seq(0)\n",
    "puts(\"x      = #{x.to_a}\")\n",
    "puts(\"x + 5  = #{(x + 5).to_a}\")\n",
    "puts(\"x - 5  = #{(x - 5).to_a}\")\n",
    "puts(\"x * 2  = #{(x * 2).to_a}\")\n",
    "puts(\"x / 2  = #{(x / 2).to_a}\")\n",
    "puts(\"-x     = #{(-x).to_a}\")\n",
    "puts(\"x ** 2 = #{(x ** 2).to_a}\")\n",
    "puts(\"x % 2  = #{(x % 2).to_a}\")"
   ]
  },
  {
   "cell_type": "markdown",
   "metadata": {},
   "source": [
    "また、これらは、組み合わせて使うことができ、その場合は通常の演算子の優先順序が適用されます："
   ]
  },
  {
   "cell_type": "code",
   "execution_count": 17,
   "metadata": {
    "collapsed": false
   },
   "outputs": [
    {
     "data": {
      "text/plain": [
       "Numo::DFloat#shape=[4]\n",
       "[-1, -2.25, -4, -6.25]"
      ]
     },
     "execution_count": 17,
     "metadata": {},
     "output_type": "execute_result"
    }
   ],
   "source": [
    "-(0.5*x + 1) ** 2"
   ]
  },
  {
   "cell_type": "markdown",
   "metadata": {},
   "source": [
    "### 絶対値"
   ]
  },
  {
   "cell_type": "markdown",
   "metadata": {},
   "source": [
    "`abs`メソッドによって、`NArray`の各要素の絶対値を求めることができます："
   ]
  },
  {
   "cell_type": "code",
   "execution_count": 19,
   "metadata": {
    "collapsed": false
   },
   "outputs": [
    {
     "data": {
      "text/plain": [
       "Numo::DFloat#shape=[5]\n",
       "[2, 1, 0, 1, 2]"
      ]
     },
     "execution_count": 19,
     "metadata": {},
     "output_type": "execute_result"
    }
   ],
   "source": [
    "x = Numo::DFloat.new(5).store [-2, -1, 0, 1, 2]\n",
    "x.abs"
   ]
  },
  {
   "cell_type": "markdown",
   "metadata": {},
   "source": [
    "`NArray`は複素数を扱うことができますが、この場合`abs`は*複素数の絶対値*を計算します："
   ]
  },
  {
   "cell_type": "code",
   "execution_count": 21,
   "metadata": {
    "collapsed": false,
    "scrolled": true
   },
   "outputs": [
    {
     "data": {
      "text/plain": [
       "Numo::DFloat#shape=[4]\n",
       "[5, 5, 2, 1]"
      ]
     },
     "execution_count": 21,
     "metadata": {},
     "output_type": "execute_result"
    }
   ],
   "source": [
    "x = Numo::DComplex.new(4).store [Complex(3, -4), Complex(4, -3), Complex(2, 0), Complex(0, 1)]\n",
    "x.abs"
   ]
  },
  {
   "cell_type": "markdown",
   "metadata": {},
   "source": [
    "### 三角関数"
   ]
  },
  {
   "cell_type": "markdown",
   "metadata": {},
   "source": [
    "`NArray`には多くのufuncが定義されています。三角関数はその一つです："
   ]
  },
  {
   "cell_type": "code",
   "execution_count": 23,
   "metadata": {
    "collapsed": false
   },
   "outputs": [
    {
     "name": "stdout",
     "output_type": "stream",
     "text": [
      "theta　　　= [0.0, 1.5707963267948966, 3.141592653589793]\n",
      "sin(theta) = [0.0, 1.0, 1.2246467991473532e-16]\n",
      "cos(theta) = [1.0, 6.123233995736766e-17, -1.0]\n",
      "tan(theta) = [0.0, 1.633123935319537e+16, -1.2246467991473532e-16]\n"
     ]
    }
   ],
   "source": [
    "theta = Numo::DFloat.new(3).seq(0, Math::PI/2)\n",
    "\n",
    "puts(\"theta　　　= #{theta.to_a}\")\n",
    "puts(\"sin(theta) = #{Numo::NMath.sin(theta).to_a}\")\n",
    "puts(\"cos(theta) = #{Numo::NMath.cos(theta).to_a}\")\n",
    "puts(\"tan(theta) = #{Numo::NMath.tan(theta).to_a}\")"
   ]
  },
  {
   "cell_type": "markdown",
   "metadata": {},
   "source": [
    "逆三角関数も定義されています："
   ]
  },
  {
   "cell_type": "code",
   "execution_count": 25,
   "metadata": {
    "collapsed": false
   },
   "outputs": [
    {
     "name": "stdout",
     "output_type": "stream",
     "text": [
      "x         = [-1.0, 0.0, 1.0]\n",
      "arcsin(x) = [-1.5707963267948966, 0.0, 1.5707963267948966]\n",
      "arccos(x) = [3.141592653589793, 1.5707963267948966, 0.0]\n",
      "arctan(x) = [-0.7853981633974483, 0.0, 0.7853981633974483]\n"
     ]
    }
   ],
   "source": [
    "x = Numo::DFloat.new(3).store [-1, 0, 1]\n",
    "\n",
    "puts(\"x         = #{x.to_a}\")\n",
    "puts(\"arcsin(x) = #{Numo::NMath.asin(x).to_a}\")\n",
    "puts(\"arccos(x) = #{Numo::NMath.acos(x).to_a}\")\n",
    "puts(\"arctan(x) = #{Numo::NMath.atan(x).to_a}\")"
   ]
  },
  {
   "cell_type": "markdown",
   "metadata": {},
   "source": [
    "### 指数と対数"
   ]
  },
  {
   "cell_type": "markdown",
   "metadata": {},
   "source": [
    "指数関数も定義されています："
   ]
  },
  {
   "cell_type": "code",
   "execution_count": 27,
   "metadata": {
    "collapsed": false
   },
   "outputs": [
    {
     "name": "stdout",
     "output_type": "stream",
     "text": [
      "x   = [1.0, 2.0, 3.0]\n",
      "e^x = [2.718281828459045, 7.38905609893065, 20.085536923187668]\n",
      "2^x = [2.0, 4.0, 8.0]\n"
     ]
    }
   ],
   "source": [
    "x = Numo::DFloat.new(3).store [1,2,3]\n",
    "\n",
    "puts(\"x   = #{x.to_a}\")\n",
    "puts(\"e^x = #{Numo::NMath.exp(x).to_a}\")\n",
    "puts(\"2^x = #{Numo::NMath.exp2(x).to_a}\")\n",
    "#puts(\"3^x = #{Numo::NMath.power(3, x).to_a}\")"
   ]
  },
  {
   "cell_type": "markdown",
   "metadata": {},
   "source": [
    "対数関数も定義されています："
   ]
  },
  {
   "cell_type": "code",
   "execution_count": 14,
   "metadata": {
    "collapsed": false,
    "scrolled": true
   },
   "outputs": [
    {
     "name": "stdout",
     "output_type": "stream",
     "text": [
      "ln(x)    = [0.0, 0.6931471805599453, 1.3862943611198906, 2.302585092994046]\n",
      "log2(x)  = [0.0, 1.0, 2.0, 3.321928094887362]\n",
      "log10(x) = [0.0, 0.3010299956639812, 0.6020599913279624, 1.0]\n"
     ]
    }
   ],
   "source": [
    "x = Numo::DFloat.new(4).store [1,2,4,10]\n",
    "\n",
    "puts(\"ln(x)    = #{Numo::NMath.log(x).to_a}\")\n",
    "puts(\"log2(x)  = #{Numo::NMath.log2(x).to_a}\")\n",
    "puts(\"log10(x) = #{Numo::NMath.log10(x).to_a}\")"
   ]
  },
  {
   "cell_type": "markdown",
   "metadata": {},
   "source": [
    "また、精度を保つための特殊な関数も定義されています："
   ]
  },
  {
   "cell_type": "code",
   "execution_count": 29,
   "metadata": {
    "collapsed": true
   },
   "outputs": [],
   "source": [
    "# x = [0, 0.001, 0.01, 0.1]\n",
    "# puts(\"exp(x) - 1 = #{Numo::NMath.expm1(x)}\")\n",
    "# puts(\"log(1 + x) = #{Numo::NMath.log1p(x)}\")"
   ]
  },
  {
   "cell_type": "markdown",
   "metadata": {},
   "source": [
    "### その他のufuncs"
   ]
  },
  {
   "cell_type": "code",
   "execution_count": 30,
   "metadata": {
    "collapsed": true
   },
   "outputs": [],
   "source": [
    "# numpyだと、scipyにたくさんufuncが定義されている\n",
    "# ex:) gamma, gammaln, beta, erf, erfc, erfinv ...\n",
    "# https://docs.scipy.org/doc/scipy/reference/special.html\n",
    "# numo/narrayにそういう外部ライブラリみたいなのはない"
   ]
  },
  {
   "cell_type": "markdown",
   "metadata": {},
   "source": [
    "## 高度なufuncの機能"
   ]
  },
  {
   "cell_type": "markdown",
   "metadata": {},
   "source": [
    "### 出力先の指定"
   ]
  },
  {
   "cell_type": "code",
   "execution_count": 33,
   "metadata": {
    "collapsed": true
   },
   "outputs": [],
   "source": [
    "# x = Numo::DFloat.new(5).seq\n",
    "# y = Numo::DFloat.new(5)\n",
    "# y = x * 10\n",
    "# ↑みたいなことが、numpyだと無駄なオブジェクトを生成すること無くできる.\n",
    "# NArrayだと、一度(x * 10)を計算した結果のオブジェクトが生成されて、\n",
    "# それにyという変数の参照先が向けられ、もともとyが指していたオブジェクトは廃棄される（おおまかには）。\n",
    "# numpyだと、yが参照しているメモリに、直接 (x * 10)の結果が書き込まれるようにできる（たぶん）。"
   ]
  },
  {
   "cell_type": "markdown",
   "metadata": {},
   "source": [
    "### aggregation"
   ]
  },
  {
   "cell_type": "markdown",
   "metadata": {},
   "source": [
    "`NArray`には、幾つかの集約(aggregation)関数が定義されています（訳注 原文では、例えば`x.sum`は`x.add.reduce`のような形で記載されている）："
   ]
  },
  {
   "cell_type": "code",
   "execution_count": 39,
   "metadata": {
    "collapsed": false
   },
   "outputs": [
    {
     "data": {
      "text/plain": [
       "15.0"
      ]
     },
     "execution_count": 39,
     "metadata": {},
     "output_type": "execute_result"
    }
   ],
   "source": [
    "x = Numo::DFloat.new(5).seq(1)\n",
    "x.sum"
   ]
  },
  {
   "cell_type": "code",
   "execution_count": 40,
   "metadata": {
    "collapsed": false
   },
   "outputs": [
    {
     "data": {
      "text/plain": [
       "120.0"
      ]
     },
     "execution_count": 40,
     "metadata": {},
     "output_type": "execute_result"
    }
   ],
   "source": [
    "x.prod"
   ]
  },
  {
   "cell_type": "code",
   "execution_count": 41,
   "metadata": {
    "collapsed": false
   },
   "outputs": [
    {
     "data": {
      "text/plain": [
       "Numo::DFloat#shape=[5]\n",
       "[1, 3, 6, 10, 15]"
      ]
     },
     "execution_count": 41,
     "metadata": {},
     "output_type": "execute_result"
    }
   ],
   "source": [
    "x.cumsum"
   ]
  },
  {
   "cell_type": "code",
   "execution_count": 42,
   "metadata": {
    "collapsed": false
   },
   "outputs": [
    {
     "data": {
      "text/plain": [
       "Numo::DFloat#shape=[5]\n",
       "[1, 2, 6, 24, 120]"
      ]
     },
     "execution_count": 42,
     "metadata": {},
     "output_type": "execute_result"
    }
   ],
   "source": [
    "x.cumprod"
   ]
  },
  {
   "cell_type": "markdown",
   "metadata": {},
   "source": [
    "### 直積"
   ]
  },
  {
   "cell_type": "markdown",
   "metadata": {},
   "source": [
    "（以下のようにすれば、直積(outer products)の計算をすることができるが、`outer`メソッドのようなメソッドがあるわけではない）"
   ]
  },
  {
   "cell_type": "code",
   "execution_count": 32,
   "metadata": {
    "collapsed": false
   },
   "outputs": [
    {
     "data": {
      "text/plain": [
       "Numo::DFloat#shape=[6,6]\n",
       "[[1, 2, 3, 4, 5, 6], \n",
       " [2, 4, 6, 8, 10, 12], \n",
       " [3, 6, 9, 12, 15, 18], \n",
       " [4, 8, 12, 16, 20, 24], \n",
       " [5, 10, 15, 20, 25, 30], \n",
       " [6, 12, 18, 24, 30, 36]]"
      ]
     },
     "execution_count": 32,
     "metadata": {},
     "output_type": "execute_result"
    }
   ],
   "source": [
    "x = Numo::DFloat.new(1, 6).seq(1)\n",
    "x.transpose * x"
   ]
  }
 ],
 "metadata": {
  "kernelspec": {
   "display_name": "Ruby 2.3.2",
   "language": "ruby",
   "name": "ruby"
  },
  "language_info": {
   "file_extension": ".rb",
   "mimetype": "application/x-ruby",
   "name": "ruby",
   "version": "2.3.2"
  }
 },
 "nbformat": 4,
 "nbformat_minor": 0
}
