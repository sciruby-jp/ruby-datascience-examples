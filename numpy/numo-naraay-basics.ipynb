{
 "cells": [
  {
   "cell_type": "markdown",
   "metadata": {
    "collapsed": false,
    "deletable": true,
    "editable": true
   },
   "source": [
    "# Numo::NArrayについて\n",
    "\n",
    "Numo::NArrayはRubyにおけるnumpyと言えるgemです。\n",
    "概要は作者の[Masahiro TANAKA](https://github.com/masa16)さんによる[ドキュメント](https://github.com/ruby-numo/narray/wiki/Numo::NArray%E6%A6%82%E8%A6%81)によるとして、ここではその実例を紹介します。\n"
   ]
  },
  {
   "cell_type": "markdown",
   "metadata": {
    "collapsed": true,
    "deletable": true,
    "editable": true
   },
   "source": [
    "## 基本的な使い方\n",
    "### オブジェクトの作り方\n",
    "まずNumo::NArray のオブジェクトを作ってみましょう"
   ]
  },
  {
   "cell_type": "code",
   "execution_count": 1,
   "metadata": {
    "collapsed": false,
    "deletable": true,
    "editable": true
   },
   "outputs": [
    {
     "data": {
      "text/plain": [
       "true"
      ]
     },
     "execution_count": 1,
     "metadata": {},
     "output_type": "execute_result"
    }
   ],
   "source": [
    "require 'numo/narray'"
   ]
  },
  {
   "cell_type": "code",
   "execution_count": 2,
   "metadata": {
    "collapsed": false,
    "deletable": true,
    "editable": true
   },
   "outputs": [
    {
     "data": {
      "text/latex": [
       "$$\\left(\\begin{array}{ccccc} 1 & 3 & 5 & 7 & 9 \\end{array}\\right)$$"
      ],
      "text/plain": [
       "Numo::Int32#shape=[5]\n",
       "[1, 3, 5, 7, 9]"
      ]
     },
     "execution_count": 2,
     "metadata": {},
     "output_type": "execute_result"
    }
   ],
   "source": [
    "x1 = Numo::NArray[1,3,5,7,9]"
   ]
  },
  {
   "cell_type": "markdown",
   "metadata": {
    "deletable": true,
    "editable": true
   },
   "source": [
    "これでオブジェクト`x1`ができました。Pythonのnumpyは型付のlistですのでNArrayにも型が付いているか確認しましょう。"
   ]
  },
  {
   "cell_type": "code",
   "execution_count": 3,
   "metadata": {
    "collapsed": false,
    "deletable": true,
    "editable": true
   },
   "outputs": [
    {
     "data": {
      "text/plain": [
       "Numo::Int32"
      ]
     },
     "execution_count": 3,
     "metadata": {},
     "output_type": "execute_result"
    }
   ],
   "source": [
    "x1.class"
   ]
  },
  {
   "cell_type": "markdown",
   "metadata": {
    "deletable": true,
    "editable": true
   },
   "source": [
    "ここでは`Int32`型になっていることがわかります。次に下記のように新たなオブジェクトとその型を確認してみましょう。"
   ]
  },
  {
   "cell_type": "code",
   "execution_count": 4,
   "metadata": {
    "collapsed": false,
    "deletable": true,
    "editable": true
   },
   "outputs": [
    {
     "data": {
      "text/latex": [
       "$$\\left(\\begin{array}{ccccc} 1.0 & 3.0 & 5.0 & 7.0 & 9.0 \\end{array}\\right)$$"
      ],
      "text/plain": [
       "Numo::DFloat#shape=[5]\n",
       "[1, 3, 5, 7, 9]"
      ]
     },
     "execution_count": 4,
     "metadata": {},
     "output_type": "execute_result"
    }
   ],
   "source": [
    "y1 = Numo::NArray[1.0, 3.0, 5.0, 7.0, 9.0]"
   ]
  },
  {
   "cell_type": "code",
   "execution_count": 5,
   "metadata": {
    "collapsed": false,
    "deletable": true,
    "editable": true
   },
   "outputs": [
    {
     "data": {
      "text/plain": [
       "Numo::DFloat"
      ]
     },
     "execution_count": 5,
     "metadata": {},
     "output_type": "execute_result"
    }
   ],
   "source": [
    "y1.class"
   ]
  },
  {
   "cell_type": "markdown",
   "metadata": {
    "deletable": true,
    "editable": true
   },
   "source": [
    "こんどは`DFloat`型になっていることがわかります。次に乱数生成によりオブジェクトを作ってみましょう。型は新たに`Int64`を使ってみましょう。"
   ]
  },
  {
   "cell_type": "code",
   "execution_count": 6,
   "metadata": {
    "collapsed": false,
    "deletable": true,
    "editable": true
   },
   "outputs": [
    {
     "data": {
      "text/latex": [
       "$$\\left(\\begin{array}{cccccc} 3 & 0 & 3 & 6 & 8 & 1 \\end{array}\\right)$$"
      ],
      "text/plain": [
       "Numo::Int64#shape=[6]\n",
       "[3, 0, 3, 6, 8, 1]"
      ]
     },
     "execution_count": 6,
     "metadata": {},
     "output_type": "execute_result"
    }
   ],
   "source": [
    "Numo::NArray.srand(123) # 生成する乱数を再現可能にするにはseedを設定します\n",
    "x2 = Numo::Int64.new(6).rand(10)"
   ]
  },
  {
   "cell_type": "markdown",
   "metadata": {
    "deletable": true,
    "editable": true
   },
   "source": [
    "ここでは10を上限にし、配列長6の乱数を生成しました。試しに生成する乱数の値の上限を上げてみましょう。"
   ]
  },
  {
   "cell_type": "code",
   "execution_count": 7,
   "metadata": {
    "collapsed": false,
    "deletable": true,
    "editable": true
   },
   "outputs": [
    {
     "data": {
      "text/latex": [
       "$$\\left(\\begin{array}{cccccc} 592 & 507 & 510 & 528 & 501 & 13 \\end{array}\\right)$$"
      ],
      "text/plain": [
       "Numo::Int64#shape=[6]\n",
       "[592, 507, 510, 528, 501, 13]"
      ]
     },
     "execution_count": 7,
     "metadata": {},
     "output_type": "execute_result"
    }
   ],
   "source": [
    "x3 = Numo::Int64.new(6).rand(1000)"
   ]
  },
  {
   "cell_type": "markdown",
   "metadata": {
    "deletable": true,
    "editable": true
   },
   "source": [
    "次は2次元、3次元の配列を作ってみましょう。"
   ]
  },
  {
   "cell_type": "code",
   "execution_count": 8,
   "metadata": {
    "collapsed": false,
    "deletable": true,
    "editable": true
   },
   "outputs": [
    {
     "data": {
      "text/latex": [
       "$$\\left(\\begin{array}{cccc}\n",
       "  6&1&9&8\\\\\n",
       "  0&6&6&0\\\\\n",
       "  6&4&3&9\\\\\n",
       "\\end{array}\\right)$$"
      ],
      "text/plain": [
       "Numo::Int64#shape=[3,4]\n",
       "[[6, 1, 9, 8], \n",
       " [0, 6, 6, 0], \n",
       " [6, 4, 3, 9]]"
      ]
     },
     "execution_count": 8,
     "metadata": {},
     "output_type": "execute_result"
    }
   ],
   "source": [
    "x4 = Numo::Int64.new(3,4).rand(10)"
   ]
  },
  {
   "cell_type": "code",
   "execution_count": 9,
   "metadata": {
    "collapsed": false,
    "deletable": true,
    "editable": true
   },
   "outputs": [
    {
     "data": {
      "text/latex": [
       "$$\\left(\\begin{array}{ccc} [[1, 4, 0, 4, 8], [5, 9, 9, 2, 6], [2, 0, 5, 1, 2], [4, 5, 2, 2, 4]] & [[0, 6, 6, 6, 3], [4, 7, 0, 8, 1], [7, 9, 5, 4, 9], [8, 5, 3, 4, 0]] & [[9, 7, 6, 9, 9], [7, 3, 9, 4, 9], [3, 8, 6, 0, 3], [0, 6, 6, 1, 2]] \\end{array}\\right)$$"
      ],
      "text/plain": [
       "Numo::Int64#shape=[3,4,5]\n",
       "[[[1, 4, 0, 4, 8], \n",
       "  [5, 9, 9, 2, 6], \n",
       "  [2, 0, 5, 1, 2], \n",
       "  [4, 5, 2, 2, 4]], \n",
       " [[0, 6, 6, 6, 3], \n",
       "  [4, 7, 0, 8, 1], \n",
       "  [7, 9, 5, 4, 9], \n",
       "  [8, 5, 3, 4, 0]], \n",
       " [[9, 7, 6, 9, 9], \n",
       "  [7, 3, 9, 4, 9], \n",
       "  [3, 8, 6, 0, 3], \n",
       "  [0, 6, 6, 1, 2]]]"
      ]
     },
     "execution_count": 9,
     "metadata": {},
     "output_type": "execute_result"
    }
   ],
   "source": [
    "x5 = Numo::Int64.new(3,4,5).rand(10)"
   ]
  },
  {
   "cell_type": "markdown",
   "metadata": {
    "deletable": true,
    "editable": true
   },
   "source": [
    "最後に配列のサイズなどを確認してみましょう。"
   ]
  },
  {
   "cell_type": "code",
   "execution_count": 10,
   "metadata": {
    "collapsed": false,
    "deletable": true,
    "editable": true
   },
   "outputs": [
    {
     "data": {
      "text/plain": [
       "3"
      ]
     },
     "execution_count": 10,
     "metadata": {},
     "output_type": "execute_result"
    }
   ],
   "source": [
    "x5.ndim"
   ]
  },
  {
   "cell_type": "code",
   "execution_count": 11,
   "metadata": {
    "collapsed": false,
    "deletable": true,
    "editable": true
   },
   "outputs": [
    {
     "data": {
      "text/plain": [
       "[3, 4, 5]"
      ]
     },
     "execution_count": 11,
     "metadata": {},
     "output_type": "execute_result"
    }
   ],
   "source": [
    "x5.shape"
   ]
  },
  {
   "cell_type": "code",
   "execution_count": 12,
   "metadata": {
    "collapsed": false,
    "deletable": true,
    "editable": true
   },
   "outputs": [
    {
     "data": {
      "text/plain": [
       "60"
      ]
     },
     "execution_count": 12,
     "metadata": {},
     "output_type": "execute_result"
    }
   ],
   "source": [
    "x5.size"
   ]
  },
  {
   "cell_type": "markdown",
   "metadata": {
    "deletable": true,
    "editable": true
   },
   "source": [
    "基本的なオブジェクトの作成方法を見てきました。次に要素にアクセスする方法を見ていきましょう。"
   ]
  },
  {
   "cell_type": "markdown",
   "metadata": {
    "deletable": true,
    "editable": true
   },
   "source": [
    "### インデキシング\n",
    "\n",
    "ここでは配列の要素をインデックスを指定することにより取得する方法を示します。"
   ]
  },
  {
   "cell_type": "code",
   "execution_count": 13,
   "metadata": {
    "collapsed": false,
    "deletable": true,
    "editable": true
   },
   "outputs": [
    {
     "data": {
      "text/latex": [
       "$$\\left(\\begin{array}{ccccc} 1 & 3 & 5 & 7 & 9 \\end{array}\\right)$$"
      ],
      "text/plain": [
       "Numo::Int32#shape=[5]\n",
       "[1, 3, 5, 7, 9]"
      ]
     },
     "execution_count": 13,
     "metadata": {},
     "output_type": "execute_result"
    }
   ],
   "source": [
    "x1"
   ]
  },
  {
   "cell_type": "code",
   "execution_count": 14,
   "metadata": {
    "collapsed": false,
    "deletable": true,
    "editable": true
   },
   "outputs": [
    {
     "data": {
      "text/plain": [
       "1"
      ]
     },
     "execution_count": 14,
     "metadata": {},
     "output_type": "execute_result"
    }
   ],
   "source": [
    "x1[0]"
   ]
  },
  {
   "cell_type": "code",
   "execution_count": 15,
   "metadata": {
    "collapsed": false,
    "deletable": true,
    "editable": true
   },
   "outputs": [
    {
     "data": {
      "text/plain": [
       "5"
      ]
     },
     "execution_count": 15,
     "metadata": {},
     "output_type": "execute_result"
    }
   ],
   "source": [
    "x1[2]"
   ]
  },
  {
   "cell_type": "markdown",
   "metadata": {
    "deletable": true,
    "editable": true
   },
   "source": [
    "配列の最後からのインデックスには `-` を使います。"
   ]
  },
  {
   "cell_type": "code",
   "execution_count": 16,
   "metadata": {
    "collapsed": false,
    "deletable": true,
    "editable": true
   },
   "outputs": [
    {
     "data": {
      "text/plain": [
       "9"
      ]
     },
     "execution_count": 16,
     "metadata": {},
     "output_type": "execute_result"
    }
   ],
   "source": [
    "x1[-1]"
   ]
  },
  {
   "cell_type": "code",
   "execution_count": 17,
   "metadata": {
    "collapsed": false,
    "deletable": true,
    "editable": true
   },
   "outputs": [
    {
     "data": {
      "text/plain": [
       "5"
      ]
     },
     "execution_count": 17,
     "metadata": {},
     "output_type": "execute_result"
    }
   ],
   "source": [
    "x1[-3]"
   ]
  },
  {
   "cell_type": "markdown",
   "metadata": {
    "deletable": true,
    "editable": true
   },
   "source": [
    "多次元配列ではコンマで区切ったインデックスを使って要素にアクセスできます。"
   ]
  },
  {
   "cell_type": "code",
   "execution_count": 18,
   "metadata": {
    "collapsed": false,
    "deletable": true,
    "editable": true
   },
   "outputs": [
    {
     "data": {
      "text/latex": [
       "$$\\left(\\begin{array}{cccc}\n",
       "  6&1&9&8\\\\\n",
       "  0&6&6&0\\\\\n",
       "  6&4&3&9\\\\\n",
       "\\end{array}\\right)$$"
      ],
      "text/plain": [
       "Numo::Int64#shape=[3,4]\n",
       "[[6, 1, 9, 8], \n",
       " [0, 6, 6, 0], \n",
       " [6, 4, 3, 9]]"
      ]
     },
     "execution_count": 18,
     "metadata": {},
     "output_type": "execute_result"
    }
   ],
   "source": [
    "x4"
   ]
  },
  {
   "cell_type": "code",
   "execution_count": 19,
   "metadata": {
    "collapsed": false,
    "deletable": true,
    "editable": true
   },
   "outputs": [
    {
     "data": {
      "text/plain": [
       "6"
      ]
     },
     "execution_count": 19,
     "metadata": {},
     "output_type": "execute_result"
    }
   ],
   "source": [
    "x4[0,0]"
   ]
  },
  {
   "cell_type": "code",
   "execution_count": 20,
   "metadata": {
    "collapsed": false,
    "deletable": true,
    "editable": true
   },
   "outputs": [
    {
     "data": {
      "text/plain": [
       "0"
      ]
     },
     "execution_count": 20,
     "metadata": {},
     "output_type": "execute_result"
    }
   ],
   "source": [
    "x4[1,0]"
   ]
  },
  {
   "cell_type": "code",
   "execution_count": 21,
   "metadata": {
    "collapsed": false,
    "deletable": true,
    "editable": true
   },
   "outputs": [
    {
     "data": {
      "text/plain": [
       "9"
      ]
     },
     "execution_count": 21,
     "metadata": {},
     "output_type": "execute_result"
    }
   ],
   "source": [
    "x4[2,-1]"
   ]
  },
  {
   "cell_type": "markdown",
   "metadata": {
    "deletable": true,
    "editable": true
   },
   "source": [
    "インデックスを使って要素の値を変更することもできます。"
   ]
  },
  {
   "cell_type": "code",
   "execution_count": 22,
   "metadata": {
    "collapsed": false,
    "deletable": true,
    "editable": true
   },
   "outputs": [
    {
     "data": {
      "text/plain": [
       "12"
      ]
     },
     "execution_count": 22,
     "metadata": {},
     "output_type": "execute_result"
    }
   ],
   "source": [
    "x4[0,0] = 12"
   ]
  },
  {
   "cell_type": "code",
   "execution_count": 23,
   "metadata": {
    "collapsed": false,
    "deletable": true,
    "editable": true
   },
   "outputs": [
    {
     "data": {
      "text/latex": [
       "$$\\left(\\begin{array}{cccc}\n",
       "  12&1&9&8\\\\\n",
       "  0&6&6&0\\\\\n",
       "  6&4&3&9\\\\\n",
       "\\end{array}\\right)$$"
      ],
      "text/plain": [
       "Numo::Int64#shape=[3,4]\n",
       "[[12, 1, 9, 8], \n",
       " [0, 6, 6, 0], \n",
       " [6, 4, 3, 9]]"
      ]
     },
     "execution_count": 23,
     "metadata": {},
     "output_type": "execute_result"
    }
   ],
   "source": [
    "x4"
   ]
  },
  {
   "cell_type": "markdown",
   "metadata": {
    "deletable": true,
    "editable": true
   },
   "source": [
    "Numo::NArrayの配列は固定した型を持っているので浮動小数点の値を整数の配列に代入すると小数点以下は切り捨てられます。"
   ]
  },
  {
   "cell_type": "code",
   "execution_count": 24,
   "metadata": {
    "collapsed": false,
    "deletable": true,
    "editable": true
   },
   "outputs": [
    {
     "data": {
      "text/plain": [
       "1.23"
      ]
     },
     "execution_count": 24,
     "metadata": {},
     "output_type": "execute_result"
    }
   ],
   "source": [
    "x1[0] = 1.23"
   ]
  },
  {
   "cell_type": "code",
   "execution_count": 25,
   "metadata": {
    "collapsed": false,
    "deletable": true,
    "editable": true
   },
   "outputs": [
    {
     "data": {
      "text/latex": [
       "$$\\left(\\begin{array}{ccccc} 1 & 3 & 5 & 7 & 9 \\end{array}\\right)$$"
      ],
      "text/plain": [
       "Numo::Int32#shape=[5]\n",
       "[1, 3, 5, 7, 9]"
      ]
     },
     "execution_count": 25,
     "metadata": {},
     "output_type": "execute_result"
    }
   ],
   "source": [
    "x1"
   ]
  },
  {
   "cell_type": "markdown",
   "metadata": {
    "deletable": true,
    "editable": true
   },
   "source": [
    "### スライシング\n",
    "\n",
    "スライシングとは配列から部分配列を切り出すことです。\n",
    "ここではスライシングのための構文を示します。"
   ]
  },
  {
   "cell_type": "code",
   "execution_count": 26,
   "metadata": {
    "collapsed": false,
    "deletable": true,
    "editable": true
   },
   "outputs": [
    {
     "data": {
      "text/latex": [
       "$$\\left(\\begin{array}{ccc} 5 & 7 & 9 \\end{array}\\right)$$"
      ],
      "text/plain": [
       "Numo::Int32(view)#shape=[3]\n",
       "[5, 7, 9]"
      ]
     },
     "execution_count": 26,
     "metadata": {},
     "output_type": "execute_result"
    }
   ],
   "source": [
    "x1[2..4]"
   ]
  },
  {
   "cell_type": "markdown",
   "metadata": {
    "deletable": true,
    "editable": true
   },
   "source": [
    "末尾からのインデックスはマイナスを使うことで実現できます。"
   ]
  },
  {
   "cell_type": "code",
   "execution_count": 27,
   "metadata": {
    "collapsed": false,
    "deletable": true,
    "editable": true
   },
   "outputs": [
    {
     "data": {
      "text/latex": [
       "$$\\left(\\begin{array}{ccc} 5 & 7 & 9 \\end{array}\\right)$$"
      ],
      "text/plain": [
       "Numo::Int32(view)#shape=[3]\n",
       "[5, 7, 9]"
      ]
     },
     "execution_count": 27,
     "metadata": {},
     "output_type": "execute_result"
    }
   ],
   "source": [
    "x1[2..-1]"
   ]
  },
  {
   "cell_type": "markdown",
   "metadata": {
    "deletable": true,
    "editable": true
   },
   "source": [
    "`step`メソッドを使うとステップつきスライスや逆順の配列を得たりできます。"
   ]
  },
  {
   "cell_type": "code",
   "execution_count": 28,
   "metadata": {
    "collapsed": false,
    "deletable": true,
    "editable": true
   },
   "outputs": [
    {
     "data": {
      "text/latex": [
       "$$\\left(\\begin{array}{ccc} 1 & 5 & 9 \\end{array}\\right)$$"
      ],
      "text/plain": [
       "Numo::Int32(view)#shape=[3]\n",
       "[1, 5, 9]"
      ]
     },
     "execution_count": 28,
     "metadata": {},
     "output_type": "execute_result"
    }
   ],
   "source": [
    "x1[(0..-1).step(2)]"
   ]
  },
  {
   "cell_type": "code",
   "execution_count": 29,
   "metadata": {
    "collapsed": false,
    "deletable": true,
    "editable": true
   },
   "outputs": [
    {
     "data": {
      "text/latex": [
       "$$\\left(\\begin{array}{cc} 9 & 7 \\end{array}\\right)$$"
      ],
      "text/plain": [
       "Numo::Int32(view)#shape=[2]\n",
       "[9, 7]"
      ]
     },
     "execution_count": 29,
     "metadata": {},
     "output_type": "execute_result"
    }
   ],
   "source": [
    "x1[(-1..3).step(-1)]"
   ]
  },
  {
   "cell_type": "markdown",
   "metadata": {
    "deletable": true,
    "editable": true
   },
   "source": [
    "#### 多次元配列のスライシング"
   ]
  },
  {
   "cell_type": "code",
   "execution_count": 30,
   "metadata": {
    "collapsed": false,
    "deletable": true,
    "editable": true
   },
   "outputs": [
    {
     "data": {
      "text/latex": [
       "$$\\left(\\begin{array}{cccc}\n",
       "  12&1&9&8\\\\\n",
       "  0&6&6&0\\\\\n",
       "  6&4&3&9\\\\\n",
       "\\end{array}\\right)$$"
      ],
      "text/plain": [
       "Numo::Int64#shape=[3,4]\n",
       "[[12, 1, 9, 8], \n",
       " [0, 6, 6, 0], \n",
       " [6, 4, 3, 9]]"
      ]
     },
     "execution_count": 30,
     "metadata": {},
     "output_type": "execute_result"
    }
   ],
   "source": [
    "x4"
   ]
  },
  {
   "cell_type": "markdown",
   "metadata": {
    "deletable": true,
    "editable": true
   },
   "source": [
    "多次元配列のスライス範囲の指定はコンマでつなぐことで可能です。"
   ]
  },
  {
   "cell_type": "code",
   "execution_count": 31,
   "metadata": {
    "collapsed": false,
    "deletable": true,
    "editable": true
   },
   "outputs": [
    {
     "data": {
      "text/latex": [
       "$$\\left(\\begin{array}{ccc}\n",
       "  12&1&9\\\\\n",
       "  0&6&6\\\\\n",
       "\\end{array}\\right)$$"
      ],
      "text/plain": [
       "Numo::Int64(view)#shape=[2,3]\n",
       "[[12, 1, 9], \n",
       " [0, 6, 6]]"
      ]
     },
     "execution_count": 31,
     "metadata": {},
     "output_type": "execute_result"
    }
   ],
   "source": [
    "x4[0..1, 0..2]"
   ]
  },
  {
   "cell_type": "markdown",
   "metadata": {
    "deletable": true,
    "editable": true
   },
   "source": [
    "一行，一列をスライスしたいことはよくあります。それには`true`を使います。"
   ]
  },
  {
   "cell_type": "code",
   "execution_count": 32,
   "metadata": {
    "collapsed": false,
    "deletable": true,
    "editable": true
   },
   "outputs": [
    {
     "data": {
      "text/latex": [
       "$$\\left(\\begin{array}{cccc} 6 & 4 & 3 & 9 \\end{array}\\right)$$"
      ],
      "text/plain": [
       "Numo::Int64(view)#shape=[4]\n",
       "[6, 4, 3, 9]"
      ]
     },
     "execution_count": 32,
     "metadata": {},
     "output_type": "execute_result"
    }
   ],
   "source": [
    "x4[2, true]"
   ]
  },
  {
   "cell_type": "code",
   "execution_count": 33,
   "metadata": {
    "collapsed": false,
    "deletable": true,
    "editable": true
   },
   "outputs": [
    {
     "data": {
      "text/latex": [
       "$$\\left(\\begin{array}{ccc} 8 & 0 & 9 \\end{array}\\right)$$"
      ],
      "text/plain": [
       "Numo::Int64(view)#shape=[3]\n",
       "[8, 0, 9]"
      ]
     },
     "execution_count": 33,
     "metadata": {},
     "output_type": "execute_result"
    }
   ],
   "source": [
    "x4[true, 3]"
   ]
  },
  {
   "cell_type": "markdown",
   "metadata": {
    "deletable": true,
    "editable": true
   },
   "source": [
    "複数行もしくは複数列をスライスしたい場合は下記になります。"
   ]
  },
  {
   "cell_type": "code",
   "execution_count": 34,
   "metadata": {
    "collapsed": false,
    "deletable": true,
    "editable": true
   },
   "outputs": [
    {
     "data": {
      "text/latex": [
       "$$\\left(\\begin{array}{cccc}\n",
       "  0&6&6&0\\\\\n",
       "  6&4&3&9\\\\\n",
       "\\end{array}\\right)$$"
      ],
      "text/plain": [
       "Numo::Int64(view)#shape=[2,4]\n",
       "[[0, 6, 6, 0], \n",
       " [6, 4, 3, 9]]"
      ]
     },
     "execution_count": 34,
     "metadata": {},
     "output_type": "execute_result"
    }
   ],
   "source": [
    "x4[1..2, true]"
   ]
  },
  {
   "cell_type": "code",
   "execution_count": 35,
   "metadata": {
    "collapsed": false,
    "deletable": true,
    "editable": true
   },
   "outputs": [
    {
     "data": {
      "text/latex": [
       "$$\\left(\\begin{array}{cc}\n",
       "  12&1\\\\\n",
       "  0&6\\\\\n",
       "  6&4\\\\\n",
       "\\end{array}\\right)$$"
      ],
      "text/plain": [
       "Numo::Int64(view)#shape=[3,2]\n",
       "[[12, 1], \n",
       " [0, 6], \n",
       " [6, 4]]"
      ]
     },
     "execution_count": 35,
     "metadata": {},
     "output_type": "execute_result"
    }
   ],
   "source": [
    "x4[true, 0..1]"
   ]
  },
  {
   "cell_type": "markdown",
   "metadata": {
    "deletable": true,
    "editable": true
   },
   "source": [
    "### コピーではないスライス評価\n",
    "\n",
    "numpyやnarrayで有用なことの1つは、配列データのコピーではないビューを返すことです。\n",
    "この機能は他で紹介するデータフレームライブラリにとって非常に重要です。\n",
    "実例によりそれを理解しましょう。\n"
   ]
  },
  {
   "cell_type": "code",
   "execution_count": 36,
   "metadata": {
    "collapsed": false,
    "deletable": true,
    "editable": true
   },
   "outputs": [
    {
     "data": {
      "text/latex": [
       "$$\\left(\\begin{array}{cccc}\n",
       "  12&1&9&8\\\\\n",
       "  0&6&6&0\\\\\n",
       "  6&4&3&9\\\\\n",
       "\\end{array}\\right)$$"
      ],
      "text/plain": [
       "Numo::Int64#shape=[3,4]\n",
       "[[12, 1, 9, 8], \n",
       " [0, 6, 6, 0], \n",
       " [6, 4, 3, 9]]"
      ]
     },
     "execution_count": 36,
     "metadata": {},
     "output_type": "execute_result"
    }
   ],
   "source": [
    "x4"
   ]
  },
  {
   "cell_type": "markdown",
   "metadata": {
    "deletable": true,
    "editable": true
   },
   "source": [
    "まず部分行列をスライスにより取得します。"
   ]
  },
  {
   "cell_type": "code",
   "execution_count": 37,
   "metadata": {
    "collapsed": false,
    "deletable": true,
    "editable": true
   },
   "outputs": [
    {
     "data": {
      "text/latex": [
       "$$\\left(\\begin{array}{cc}\n",
       "  12&1\\\\\n",
       "  0&6\\\\\n",
       "\\end{array}\\right)$$"
      ],
      "text/plain": [
       "Numo::Int64(view)#shape=[2,2]\n",
       "[[12, 1], \n",
       " [0, 6]]"
      ]
     },
     "execution_count": 37,
     "metadata": {},
     "output_type": "execute_result"
    }
   ],
   "source": [
    "x4sub = x4[0..1, 0..1]"
   ]
  },
  {
   "cell_type": "markdown",
   "metadata": {
    "deletable": true,
    "editable": true
   },
   "source": [
    "次にスライスした行列へ要素の変更を行ってみましょう。"
   ]
  },
  {
   "cell_type": "code",
   "execution_count": 38,
   "metadata": {
    "collapsed": false,
    "deletable": true,
    "editable": true
   },
   "outputs": [
    {
     "data": {
      "text/plain": [
       "999"
      ]
     },
     "execution_count": 38,
     "metadata": {},
     "output_type": "execute_result"
    }
   ],
   "source": [
    "x4sub[0,0] = 999"
   ]
  },
  {
   "cell_type": "code",
   "execution_count": 39,
   "metadata": {
    "collapsed": false,
    "deletable": true,
    "editable": true
   },
   "outputs": [
    {
     "data": {
      "text/latex": [
       "$$\\left(\\begin{array}{cc}\n",
       "  999&1\\\\\n",
       "  0&6\\\\\n",
       "\\end{array}\\right)$$"
      ],
      "text/plain": [
       "Numo::Int64(view)#shape=[2,2]\n",
       "[[999, 1], \n",
       " [0, 6]]"
      ]
     },
     "execution_count": 39,
     "metadata": {},
     "output_type": "execute_result"
    }
   ],
   "source": [
    "x4sub"
   ]
  },
  {
   "cell_type": "markdown",
   "metadata": {
    "deletable": true,
    "editable": true
   },
   "source": [
    "スライス元の行列を確認してみましょう。"
   ]
  },
  {
   "cell_type": "code",
   "execution_count": 40,
   "metadata": {
    "collapsed": false,
    "deletable": true,
    "editable": true
   },
   "outputs": [
    {
     "data": {
      "text/latex": [
       "$$\\left(\\begin{array}{cccc}\n",
       "  999&1&9&8\\\\\n",
       "  0&6&6&0\\\\\n",
       "  6&4&3&9\\\\\n",
       "\\end{array}\\right)$$"
      ],
      "text/plain": [
       "Numo::Int64#shape=[3,4]\n",
       "[[999, 1, 9, 8], \n",
       " [0, 6, 6, 0], \n",
       " [6, 4, 3, 9]]"
      ]
     },
     "execution_count": 40,
     "metadata": {},
     "output_type": "execute_result"
    }
   ],
   "source": [
    "x4"
   ]
  },
  {
   "cell_type": "markdown",
   "metadata": {
    "deletable": true,
    "editable": true
   },
   "source": [
    "スライス元の行列の要素も変更が行われていることが確認できました。\n",
    "この振る舞いは非常に重要ですが現状Rubyで最も使われているデータフレームgemであるdaruではこの機能がサポートされていません。\n",
    "それはこれまで我々が型付配列gemの決定版とも言えるものを明確に定めることができなかったことに起因しています。\n",
    "今後我々はNumo::NArrayを使ったdaruのリライトを行いこの問題を解決する予定です。"
   ]
  },
  {
   "cell_type": "markdown",
   "metadata": {
    "deletable": true,
    "editable": true
   },
   "source": [
    "### 配列の再形成\n",
    "reshapeメソッドを使うことで配列から行列を作ることが可能です。"
   ]
  },
  {
   "cell_type": "code",
   "execution_count": 41,
   "metadata": {
    "collapsed": false,
    "deletable": true,
    "editable": true
   },
   "outputs": [
    {
     "data": {
      "text/latex": [
       "$$\\left(\\begin{array}{ccc}\n",
       "  1&2&3\\\\\n",
       "  4&5&6\\\\\n",
       "  7&8&9\\\\\n",
       "\\end{array}\\right)$$"
      ],
      "text/plain": [
       "Numo::Int32#shape=[3,3]\n",
       "[[1, 2, 3], \n",
       " [4, 5, 6], \n",
       " [7, 8, 9]]"
      ]
     },
     "execution_count": 41,
     "metadata": {},
     "output_type": "execute_result"
    }
   ],
   "source": [
    "mat = Numo::Int32[1..9].reshape(3,3)"
   ]
  },
  {
   "cell_type": "code",
   "execution_count": 42,
   "metadata": {
    "collapsed": false,
    "deletable": true,
    "editable": true
   },
   "outputs": [
    {
     "data": {
      "text/latex": [
       "$$\\left(\\begin{array}{ccc} 1 & 2 & 3 \\end{array}\\right)$$"
      ],
      "text/plain": [
       "Numo::Int32#shape=[3]\n",
       "[1, 2, 3]"
      ]
     },
     "execution_count": 42,
     "metadata": {},
     "output_type": "execute_result"
    }
   ],
   "source": [
    "x = Numo::Int32[1,2,3]"
   ]
  },
  {
   "cell_type": "code",
   "execution_count": 43,
   "metadata": {
    "collapsed": false,
    "deletable": true,
    "editable": true
   },
   "outputs": [
    {
     "data": {
      "text/latex": [
       "$$\\left(\\begin{array}{c}\n",
       "  1\\\\\n",
       "  2\\\\\n",
       "  3\\\\\n",
       "\\end{array}\\right)$$"
      ],
      "text/plain": [
       "Numo::Int32#shape=[3,1]\n",
       "[[1], \n",
       " [2], \n",
       " [3]]"
      ]
     },
     "execution_count": 43,
     "metadata": {},
     "output_type": "execute_result"
    }
   ],
   "source": [
    "x.reshape(3,1)"
   ]
  },
  {
   "cell_type": "markdown",
   "metadata": {
    "deletable": true,
    "editable": true
   },
   "source": [
    "## 配列の結合と分割"
   ]
  },
  {
   "cell_type": "markdown",
   "metadata": {
    "deletable": true,
    "editable": true
   },
   "source": [
    "### 配列の結合\n",
    "結合にはconcatenateメソッドを使います。"
   ]
  },
  {
   "cell_type": "code",
   "execution_count": 44,
   "metadata": {
    "collapsed": false,
    "deletable": true,
    "editable": true
   },
   "outputs": [
    {
     "data": {
      "text/latex": [
       "$$\\left(\\begin{array}{ccc} 1 & 2 & 3 \\end{array}\\right)$$"
      ],
      "text/plain": [
       "Numo::Int32#shape=[3]\n",
       "[1, 2, 3]"
      ]
     },
     "execution_count": 44,
     "metadata": {},
     "output_type": "execute_result"
    }
   ],
   "source": [
    "x = Numo::NArray[1,2,3]"
   ]
  },
  {
   "cell_type": "code",
   "execution_count": 45,
   "metadata": {
    "collapsed": false,
    "deletable": true,
    "editable": true,
    "scrolled": true
   },
   "outputs": [
    {
     "data": {
      "text/latex": [
       "$$\\left(\\begin{array}{ccc} 3 & 2 & 1 \\end{array}\\right)$$"
      ],
      "text/plain": [
       "Numo::Int32#shape=[3]\n",
       "[3, 2, 1]"
      ]
     },
     "execution_count": 45,
     "metadata": {},
     "output_type": "execute_result"
    }
   ],
   "source": [
    "y = Numo::NArray[3,2,1]"
   ]
  },
  {
   "cell_type": "code",
   "execution_count": 46,
   "metadata": {
    "collapsed": false,
    "deletable": true,
    "editable": true
   },
   "outputs": [
    {
     "data": {
      "text/plain": [
       "Numo::Int32"
      ]
     },
     "execution_count": 46,
     "metadata": {},
     "output_type": "execute_result"
    }
   ],
   "source": [
    "x.class"
   ]
  },
  {
   "cell_type": "code",
   "execution_count": 47,
   "metadata": {
    "collapsed": false,
    "deletable": true,
    "editable": true
   },
   "outputs": [
    {
     "data": {
      "text/latex": [
       "$$\\left(\\begin{array}{cccccc} 1 & 2 & 3 & 3 & 2 & 1 \\end{array}\\right)$$"
      ],
      "text/plain": [
       "Numo::Int32#shape=[6]\n",
       "[1, 2, 3, 3, 2, 1]"
      ]
     },
     "execution_count": 47,
     "metadata": {},
     "output_type": "execute_result"
    }
   ],
   "source": [
    "x.concatenate(y)"
   ]
  },
  {
   "cell_type": "markdown",
   "metadata": {
    "deletable": true,
    "editable": true
   },
   "source": [
    "一度に複数の配列を結合することも可能です。"
   ]
  },
  {
   "cell_type": "code",
   "execution_count": 48,
   "metadata": {
    "collapsed": false,
    "deletable": true,
    "editable": true
   },
   "outputs": [
    {
     "data": {
      "text/plain": [
       "[10, 20, 30]"
      ]
     },
     "execution_count": 48,
     "metadata": {},
     "output_type": "execute_result"
    }
   ],
   "source": [
    "z = [10,20,30]"
   ]
  },
  {
   "cell_type": "code",
   "execution_count": 49,
   "metadata": {
    "collapsed": false,
    "deletable": true,
    "editable": true
   },
   "outputs": [
    {
     "data": {
      "text/plain": [
       "[100, 200, 300]"
      ]
     },
     "execution_count": 49,
     "metadata": {},
     "output_type": "execute_result"
    }
   ],
   "source": [
    "zz = [100,200,300]"
   ]
  },
  {
   "cell_type": "code",
   "execution_count": 50,
   "metadata": {
    "collapsed": false,
    "deletable": true,
    "editable": true
   },
   "outputs": [
    {
     "data": {
      "text/latex": [
       "$$\\left(\\begin{array}{cccccccccccc} 1 & 2 & 3 & 3 & 2 & 1 & 10 & 20 & 30 & 100 & 200 & 300 \\end{array}\\right)$$"
      ],
      "text/plain": [
       "Numo::Int32#shape=[12]\n",
       "[1, 2, 3, 3, 2, 1, 10, 20, 30, 100, 200, 300]"
      ]
     },
     "execution_count": 50,
     "metadata": {},
     "output_type": "execute_result"
    }
   ],
   "source": [
    "x.concatenate(y,z,zz)"
   ]
  },
  {
   "cell_type": "markdown",
   "metadata": {
    "deletable": true,
    "editable": true
   },
   "source": [
    "行列も結合可能です。`axis`を指定することで行方向に結合するか列方向に結合するか選べます。"
   ]
  },
  {
   "cell_type": "code",
   "execution_count": 51,
   "metadata": {
    "collapsed": false,
    "deletable": true,
    "editable": true
   },
   "outputs": [
    {
     "data": {
      "text/latex": [
       "$$\\left(\\begin{array}{ccc}\n",
       "  1&2&3\\\\\n",
       "  4&5&6\\\\\n",
       "  7&8&9\\\\\n",
       "  1&2&3\\\\\n",
       "  4&5&6\\\\\n",
       "  7&8&9\\\\\n",
       "\\end{array}\\right)$$"
      ],
      "text/plain": [
       "Numo::Int32#shape=[6,3]\n",
       "[[1, 2, 3], \n",
       " [4, 5, 6], \n",
       " [7, 8, 9], \n",
       " [1, 2, 3], \n",
       " [4, 5, 6], \n",
       " [7, 8, 9]]"
      ]
     },
     "execution_count": 51,
     "metadata": {},
     "output_type": "execute_result"
    }
   ],
   "source": [
    "mat.concatenate(mat, axis:0)"
   ]
  },
  {
   "cell_type": "code",
   "execution_count": 52,
   "metadata": {
    "collapsed": false,
    "deletable": true,
    "editable": true
   },
   "outputs": [
    {
     "data": {
      "text/latex": [
       "$$\\left(\\begin{array}{cccccc}\n",
       "  1&2&3&1&2&3\\\\\n",
       "  4&5&6&4&5&6\\\\\n",
       "  7&8&9&7&8&9\\\\\n",
       "\\end{array}\\right)$$"
      ],
      "text/plain": [
       "Numo::Int32#shape=[3,6]\n",
       "[[1, 2, 3, 1, 2, 3], \n",
       " [4, 5, 6, 4, 5, 6], \n",
       " [7, 8, 9, 7, 8, 9]]"
      ]
     },
     "execution_count": 52,
     "metadata": {},
     "output_type": "execute_result"
    }
   ],
   "source": [
    "mat.concatenate(mat, axis:1)"
   ]
  },
  {
   "cell_type": "markdown",
   "metadata": {
    "deletable": true,
    "editable": true
   },
   "source": [
    "次元の異なる配列を結合するには `vstack` か `hstack` を使います。"
   ]
  },
  {
   "cell_type": "code",
   "execution_count": 70,
   "metadata": {
    "collapsed": false,
    "deletable": true,
    "editable": true
   },
   "outputs": [
    {
     "data": {
      "text/latex": [
       "$$\\left(\\begin{array}{ccc} 1 & 2 & 3 \\end{array}\\right)$$"
      ],
      "text/plain": [
       "Numo::Int32#shape=[3]\n",
       "[1, 2, 3]"
      ]
     },
     "execution_count": 70,
     "metadata": {},
     "output_type": "execute_result"
    }
   ],
   "source": [
    "x"
   ]
  },
  {
   "cell_type": "code",
   "execution_count": 54,
   "metadata": {
    "collapsed": false,
    "deletable": true,
    "editable": true
   },
   "outputs": [
    {
     "data": {
      "text/latex": [
       "$$\\left(\\begin{array}{ccc}\n",
       "  9&8&7\\\\\n",
       "  6&5&4\\\\\n",
       "\\end{array}\\right)$$"
      ],
      "text/plain": [
       "Numo::Int32#shape=[2,3]\n",
       "[[9, 8, 7], \n",
       " [6, 5, 4]]"
      ]
     },
     "execution_count": 54,
     "metadata": {},
     "output_type": "execute_result"
    }
   ],
   "source": [
    "grid = Numo::NArray[[9,8,7],[6,5,4]]"
   ]
  },
  {
   "cell_type": "code",
   "execution_count": 71,
   "metadata": {
    "collapsed": false
   },
   "outputs": [
    {
     "ename": "Numo::NArray::ShapeError",
     "evalue": "shape1[0](=3) != shape2[0](=2)",
     "output_type": "error",
     "traceback": [
      "\u001b[31mNumo::NArray::ShapeError\u001b[0m: shape1[0](=3) != shape2[0](=2)",
      "\u001b[37m/var/lib/gems/2.4.0/gems/numo-narray-0.9.0.3/lib/numo/narray/extra.rb:45:in `[]='\u001b[0m",
      "\u001b[37m/var/lib/gems/2.4.0/gems/numo-narray-0.9.0.3/lib/numo/narray/extra.rb:45:in `block in stack'\u001b[0m",
      "\u001b[37m/var/lib/gems/2.4.0/gems/numo-narray-0.9.0.3/lib/numo/narray/extra.rb:43:in `each'\u001b[0m",
      "\u001b[37m/var/lib/gems/2.4.0/gems/numo-narray-0.9.0.3/lib/numo/narray/extra.rb:43:in `each_with_index'\u001b[0m",
      "\u001b[37m/var/lib/gems/2.4.0/gems/numo-narray-0.9.0.3/lib/numo/narray/extra.rb:43:in `stack'\u001b[0m",
      "\u001b[37m/var/lib/gems/2.4.0/gems/numo-narray-0.9.0.3/lib/numo/narray/extra.rb:51:in `vstack'\u001b[0m",
      "\u001b[37m<main>:in `<main>'\u001b[0m",
      "\u001b[37m/var/lib/gems/2.4.0/gems/iruby-0.2.9/lib/iruby/backend.rb:44:in `eval'\u001b[0m",
      "\u001b[37m/var/lib/gems/2.4.0/gems/iruby-0.2.9/lib/iruby/backend.rb:44:in `eval'\u001b[0m",
      "\u001b[37m/var/lib/gems/2.4.0/gems/iruby-0.2.9/lib/iruby/backend.rb:12:in `eval'\u001b[0m",
      "\u001b[37m/var/lib/gems/2.4.0/gems/iruby-0.2.9/lib/iruby/kernel.rb:87:in `execute_request'\u001b[0m",
      "\u001b[37m/var/lib/gems/2.4.0/gems/iruby-0.2.9/lib/iruby/kernel.rb:47:in `dispatch'\u001b[0m",
      "\u001b[37m/var/lib/gems/2.4.0/gems/iruby-0.2.9/lib/iruby/kernel.rb:37:in `run'\u001b[0m",
      "\u001b[37m/var/lib/gems/2.4.0/gems/iruby-0.2.9/lib/iruby/command.rb:70:in `run_kernel'\u001b[0m",
      "\u001b[37m/var/lib/gems/2.4.0/gems/iruby-0.2.9/lib/iruby/command.rb:34:in `run'\u001b[0m",
      "\u001b[37m/var/lib/gems/2.4.0/gems/iruby-0.2.9/bin/iruby:5:in `<top (required)>'\u001b[0m",
      "\u001b[37m/usr/local/bin/iruby:22:in `load'\u001b[0m",
      "\u001b[37m/usr/local/bin/iruby:22:in `<main>'\u001b[0m"
     ]
    }
   ],
   "source": [
    "Numo::NArray.vstack([x,grid])"
   ]
  },
  {
   "cell_type": "code",
   "execution_count": 72,
   "metadata": {
    "collapsed": false,
    "deletable": true,
    "editable": true
   },
   "outputs": [
    {
     "data": {
      "text/latex": [
       "$$\\left(\\begin{array}{cc} [[1, 2, 3], [1, 2, 3]] & [[9, 8, 7], [6, 5, 4]] \\end{array}\\right)$$"
      ],
      "text/plain": [
       "Numo::Int32#shape=[2,2,3]\n",
       "[[[1, 2, 3], \n",
       "  [1, 2, 3]], \n",
       " [[9, 8, 7], \n",
       "  [6, 5, 4]]]"
      ]
     },
     "execution_count": 72,
     "metadata": {},
     "output_type": "execute_result"
    }
   ],
   "source": [
    "Numo::NArray.vstack([x.reshape(1,3),grid])"
   ]
  },
  {
   "cell_type": "code",
   "execution_count": 73,
   "metadata": {
    "collapsed": false
   },
   "outputs": [
    {
     "data": {
      "text/plain": [
       "[2, 2, 3]"
      ]
     },
     "execution_count": 73,
     "metadata": {},
     "output_type": "execute_result"
    }
   ],
   "source": [
    "Numo::NArray.vstack([x.reshape(1,3),grid]).shape"
   ]
  },
  {
   "cell_type": "markdown",
   "metadata": {
    "deletable": true,
    "editable": true
   },
   "source": [
    "### 配列の分割\n",
    "分割にはsplit, hsplit, vsplitメソッドを使います。引数には分割するポイントのインデックスを与えます。"
   ]
  },
  {
   "cell_type": "code",
   "execution_count": 74,
   "metadata": {
    "collapsed": false,
    "deletable": true,
    "editable": true
   },
   "outputs": [
    {
     "data": {
      "text/latex": [
       "$$\\left(\\begin{array}{cccccccc} 1 & 2 & 3 & 99 & 99 & 3 & 2 & 1 \\end{array}\\right)$$"
      ],
      "text/plain": [
       "Numo::Int32#shape=[8]\n",
       "[1, 2, 3, 99, 99, 3, 2, 1]"
      ]
     },
     "execution_count": 74,
     "metadata": {},
     "output_type": "execute_result"
    }
   ],
   "source": [
    "x = Numo::NArray[1,2,3,99,99,3,2,1]"
   ]
  },
  {
   "cell_type": "code",
   "execution_count": 77,
   "metadata": {
    "collapsed": false
   },
   "outputs": [
    {
     "data": {
      "text/plain": [
       "[Numo::Int32(view)#shape=[3]\n",
       "[1, 2, 3], Numo::Int32(view)#shape=[2]\n",
       "[99, 99], Numo::Int32(view)#shape=[3]\n",
       "[3, 2, 1]]"
      ]
     },
     "execution_count": 77,
     "metadata": {},
     "output_type": "execute_result"
    }
   ],
   "source": [
    "x1,x2,x3 = x.split([3,5])"
   ]
  },
  {
   "cell_type": "code",
   "execution_count": 78,
   "metadata": {
    "collapsed": false
   },
   "outputs": [
    {
     "data": {
      "text/latex": [
       "$$\\left(\\begin{array}{ccc} 1 & 2 & 3 \\end{array}\\right)$$"
      ],
      "text/plain": [
       "Numo::Int32(view)#shape=[3]\n",
       "[1, 2, 3]"
      ]
     },
     "execution_count": 78,
     "metadata": {},
     "output_type": "execute_result"
    }
   ],
   "source": [
    "x1"
   ]
  },
  {
   "cell_type": "code",
   "execution_count": 79,
   "metadata": {
    "collapsed": false
   },
   "outputs": [
    {
     "data": {
      "text/latex": [
       "$$\\left(\\begin{array}{cc} 99 & 99 \\end{array}\\right)$$"
      ],
      "text/plain": [
       "Numo::Int32(view)#shape=[2]\n",
       "[99, 99]"
      ]
     },
     "execution_count": 79,
     "metadata": {},
     "output_type": "execute_result"
    }
   ],
   "source": [
    "x2"
   ]
  },
  {
   "cell_type": "code",
   "execution_count": 80,
   "metadata": {
    "collapsed": false
   },
   "outputs": [
    {
     "data": {
      "text/latex": [
       "$$\\left(\\begin{array}{ccc} 3 & 2 & 1 \\end{array}\\right)$$"
      ],
      "text/plain": [
       "Numo::Int32(view)#shape=[3]\n",
       "[3, 2, 1]"
      ]
     },
     "execution_count": 80,
     "metadata": {},
     "output_type": "execute_result"
    }
   ],
   "source": [
    "x3"
   ]
  },
  {
   "cell_type": "markdown",
   "metadata": {},
   "source": [
    "行や列で分割したい場合，hsplitもしくはvsplitを使います。引数は何行，何列毎に分割するかを表しています。"
   ]
  },
  {
   "cell_type": "code",
   "execution_count": 96,
   "metadata": {
    "collapsed": false
   },
   "outputs": [
    {
     "data": {
      "text/latex": [
       "$$\\left(\\begin{array}{cccc}\n",
       "  0&1&2&3\\\\\n",
       "  4&5&6&7\\\\\n",
       "  8&9&10&11\\\\\n",
       "  12&13&14&15\\\\\n",
       "\\end{array}\\right)$$"
      ],
      "text/plain": [
       "Numo::Int32#shape=[4,4]\n",
       "[[0, 1, 2, 3], \n",
       " [4, 5, 6, 7], \n",
       " [8, 9, 10, 11], \n",
       " [12, 13, 14, 15]]"
      ]
     },
     "execution_count": 96,
     "metadata": {},
     "output_type": "execute_result"
    }
   ],
   "source": [
    "grid = Numo::NArray[0..15].reshape(4,4)"
   ]
  },
  {
   "cell_type": "code",
   "execution_count": 97,
   "metadata": {
    "collapsed": false
   },
   "outputs": [
    {
     "data": {
      "text/plain": [
       "[Numo::Int32(view)#shape=[2,4]\n",
       "[[0, 1, 2, 3], \n",
       " [4, 5, 6, 7]], Numo::Int32(view)#shape=[2,4]\n",
       "[[8, 9, 10, 11], \n",
       " [12, 13, 14, 15]]]"
      ]
     },
     "execution_count": 97,
     "metadata": {},
     "output_type": "execute_result"
    }
   ],
   "source": [
    "upper, lower = grid.vsplit(2)"
   ]
  },
  {
   "cell_type": "code",
   "execution_count": 98,
   "metadata": {
    "collapsed": false
   },
   "outputs": [
    {
     "data": {
      "text/latex": [
       "$$\\left(\\begin{array}{cccc}\n",
       "  0&1&2&3\\\\\n",
       "  4&5&6&7\\\\\n",
       "\\end{array}\\right)$$"
      ],
      "text/plain": [
       "Numo::Int32(view)#shape=[2,4]\n",
       "[[0, 1, 2, 3], \n",
       " [4, 5, 6, 7]]"
      ]
     },
     "execution_count": 98,
     "metadata": {},
     "output_type": "execute_result"
    }
   ],
   "source": [
    "upper"
   ]
  },
  {
   "cell_type": "code",
   "execution_count": 99,
   "metadata": {
    "collapsed": false
   },
   "outputs": [
    {
     "data": {
      "text/latex": [
       "$$\\left(\\begin{array}{cccc}\n",
       "  8&9&10&11\\\\\n",
       "  12&13&14&15\\\\\n",
       "\\end{array}\\right)$$"
      ],
      "text/plain": [
       "Numo::Int32(view)#shape=[2,4]\n",
       "[[8, 9, 10, 11], \n",
       " [12, 13, 14, 15]]"
      ]
     },
     "execution_count": 99,
     "metadata": {},
     "output_type": "execute_result"
    }
   ],
   "source": [
    "lower"
   ]
  },
  {
   "cell_type": "code",
   "execution_count": 101,
   "metadata": {
    "collapsed": false
   },
   "outputs": [
    {
     "data": {
      "text/plain": [
       "[Numo::Int32(view)#shape=[4,4]\n",
       "[[0, 1, 2, 3], \n",
       " [4, 5, 6, 7], \n",
       " [8, 9, 10, 11], \n",
       " [12, 13, 14, 15]]]"
      ]
     },
     "execution_count": 101,
     "metadata": {},
     "output_type": "execute_result"
    }
   ],
   "source": [
    "grid.vsplit(1)"
   ]
  },
  {
   "cell_type": "code",
   "execution_count": 100,
   "metadata": {
    "collapsed": false
   },
   "outputs": [
    {
     "data": {
      "text/plain": [
       "[Numo::Int32(view)#shape=[4,4]\n",
       "[[0, 1, 2, 3], \n",
       " [4, 5, 6, 7], \n",
       " [8, 9, 10, 11], \n",
       " [12, 13, 14, 15]]]"
      ]
     },
     "execution_count": 100,
     "metadata": {},
     "output_type": "execute_result"
    }
   ],
   "source": [
    "grid.hsplit(1)"
   ]
  },
  {
   "cell_type": "code",
   "execution_count": 92,
   "metadata": {
    "collapsed": false
   },
   "outputs": [
    {
     "data": {
      "text/plain": [
       "[Numo::Int32(view)#shape=[4,2]\n",
       "[[0, 1], \n",
       " [4, 5], \n",
       " [8, 9], \n",
       " [12, 13]], Numo::Int32(view)#shape=[4,2]\n",
       "[[2, 3], \n",
       " [6, 7], \n",
       " [10, 11], \n",
       " [14, 15]]]"
      ]
     },
     "execution_count": 92,
     "metadata": {},
     "output_type": "execute_result"
    }
   ],
   "source": [
    "left, right = grid.hsplit(2)"
   ]
  },
  {
   "cell_type": "code",
   "execution_count": 93,
   "metadata": {
    "collapsed": false
   },
   "outputs": [
    {
     "data": {
      "text/latex": [
       "$$\\left(\\begin{array}{cc}\n",
       "  0&1\\\\\n",
       "  4&5\\\\\n",
       "  8&9\\\\\n",
       "  12&13\\\\\n",
       "\\end{array}\\right)$$"
      ],
      "text/plain": [
       "Numo::Int32(view)#shape=[4,2]\n",
       "[[0, 1], \n",
       " [4, 5], \n",
       " [8, 9], \n",
       " [12, 13]]"
      ]
     },
     "execution_count": 93,
     "metadata": {},
     "output_type": "execute_result"
    }
   ],
   "source": [
    "left"
   ]
  },
  {
   "cell_type": "code",
   "execution_count": 94,
   "metadata": {
    "collapsed": false
   },
   "outputs": [
    {
     "data": {
      "text/latex": [
       "$$\\left(\\begin{array}{cc}\n",
       "  2&3\\\\\n",
       "  6&7\\\\\n",
       "  10&11\\\\\n",
       "  14&15\\\\\n",
       "\\end{array}\\right)$$"
      ],
      "text/plain": [
       "Numo::Int32(view)#shape=[4,2]\n",
       "[[2, 3], \n",
       " [6, 7], \n",
       " [10, 11], \n",
       " [14, 15]]"
      ]
     },
     "execution_count": 94,
     "metadata": {},
     "output_type": "execute_result"
    }
   ],
   "source": [
    "right"
   ]
  },
  {
   "cell_type": "code",
   "execution_count": null,
   "metadata": {
    "collapsed": true
   },
   "outputs": [],
   "source": []
  }
 ],
 "metadata": {
  "kernelspec": {
   "display_name": "Ruby 2.3.1",
   "language": "ruby",
   "name": "ruby"
  },
  "language_info": {
   "file_extension": ".rb",
   "mimetype": "application/x-ruby",
   "name": "ruby",
   "version": "2.4.0"
  }
 },
 "nbformat": 4,
 "nbformat_minor": 2
}
