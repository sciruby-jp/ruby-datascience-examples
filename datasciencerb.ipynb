{
 "cells": [
  {
   "cell_type": "markdown",
   "metadata": {},
   "source": [
    "# このnotebookを開くには\n",
    "\n",
    "```shell\n",
    "git clone https://github.com/sciruby-jp/ruby-datascience-examples.git\n",
    "cd ruby-datascience-examples\n",
    "docker run -p 8888:8888 sciruby/ruby-datascience-examples start-notebook.sh --NotebookApp.token=''\n",
    "```\n",
    "\n",
    "Go to `http://localhost:8888`"
   ]
  },
  {
   "cell_type": "markdown",
   "metadata": {},
   "source": [
    "# 赤ワインと白ワインのどっちがおいしい？\n",
    "\n",
    "https://archive.ics.uci.edu/ml/datasets/wine\n",
    "←このデータから、赤ワインの評価と白ワインの評価に差があるかを調べる"
   ]
  },
  {
   "cell_type": "code",
   "execution_count": null,
   "metadata": {},
   "outputs": [],
   "source": [
    "require 'daru'\n",
    "require 'rbplotly'\n",
    "require 'daru_plotly'\n",
    "require 'statsample'"
   ]
  },
  {
   "cell_type": "markdown",
   "metadata": {},
   "source": [
    "## csvを読み込む"
   ]
  },
  {
   "cell_type": "code",
   "execution_count": null,
   "metadata": {},
   "outputs": [],
   "source": [
    "wine = Daru::DataFrame.from_csv('./winequality-both.csv')\n",
    "wine.head 10 # 最初の10行を表示"
   ]
  },
  {
   "cell_type": "code",
   "execution_count": null,
   "metadata": {},
   "outputs": [],
   "source": [
    "wine['type'].uniq.to_a"
   ]
  },
  {
   "cell_type": "code",
   "execution_count": null,
   "metadata": {},
   "outputs": [],
   "source": [
    "wine['quality'].uniq.to_a.sort"
   ]
  },
  {
   "cell_type": "code",
   "execution_count": null,
   "metadata": {},
   "outputs": [],
   "source": [
    "include Daru::Plotly::Initializer # plot, generate_data"
   ]
  },
  {
   "cell_type": "code",
   "execution_count": null,
   "metadata": {
    "scrolled": false
   },
   "outputs": [],
   "source": [
    "plot(wine['quality'], type: :histogram, x: :quality).show"
   ]
  },
  {
   "cell_type": "markdown",
   "metadata": {},
   "source": [
    "## 赤ワインと白ワインを分ける"
   ]
  },
  {
   "cell_type": "code",
   "execution_count": null,
   "metadata": {},
   "outputs": [],
   "source": [
    "reds = wine.where(wine['type'].eq('red'))\n",
    "reds.head 10"
   ]
  },
  {
   "cell_type": "code",
   "execution_count": null,
   "metadata": {},
   "outputs": [],
   "source": [
    "whites = wine.where(wine['type'].eq('white'))\n",
    "whites.head 10"
   ]
  },
  {
   "cell_type": "markdown",
   "metadata": {},
   "source": [
    "## qualityのヒストグラムを書く"
   ]
  },
  {
   "cell_type": "code",
   "execution_count": null,
   "metadata": {},
   "outputs": [],
   "source": [
    "red_qualities = generate_data(reds['quality'], type: :histogram)\n",
    "white_qualities = generate_data(whites['quality'], type: :histogram)\n",
    "Plotly::Plot.new(data: red_qualities + white_qualities).show"
   ]
  },
  {
   "cell_type": "code",
   "execution_count": null,
   "metadata": {},
   "outputs": [],
   "source": [
    "plot(whites['quality'], type: :histogram).show"
   ]
  },
  {
   "cell_type": "markdown",
   "metadata": {},
   "source": [
    "## t検定\n",
    "\n",
    "赤ワインと白ワインの `quality` の平均値に差があるのか仮説検定する。"
   ]
  },
  {
   "cell_type": "code",
   "execution_count": null,
   "metadata": {
    "scrolled": true
   },
   "outputs": [],
   "source": [
    "reds['quality'].mean"
   ]
  },
  {
   "cell_type": "code",
   "execution_count": null,
   "metadata": {},
   "outputs": [],
   "source": [
    "whites['quality'].mean"
   ]
  },
  {
   "cell_type": "code",
   "execution_count": null,
   "metadata": {},
   "outputs": [],
   "source": [
    "Statsample::Analysis.store(Statsample::Test::T) do\n",
    "  t = Statsample::Test.t_two_samples_independent(reds['quality'], whites['quality'])\n",
    "  summary t\n",
    "end\n",
    "Statsample::Analysis.run_batch"
   ]
  },
  {
   "cell_type": "markdown",
   "metadata": {},
   "source": [
    "## アルコール度数に差はあるのか？"
   ]
  },
  {
   "cell_type": "code",
   "execution_count": null,
   "metadata": {},
   "outputs": [],
   "source": [
    "plot(reds['alcohol'], type: :histogram).show\n",
    "plot(whites['alcohol'], type: :histogram).show"
   ]
  },
  {
   "cell_type": "code",
   "execution_count": null,
   "metadata": {},
   "outputs": [],
   "source": [
    "reds['alcohol'].mean"
   ]
  },
  {
   "cell_type": "code",
   "execution_count": null,
   "metadata": {},
   "outputs": [],
   "source": [
    "whites['alcohol'].mean"
   ]
  },
  {
   "cell_type": "code",
   "execution_count": null,
   "metadata": {},
   "outputs": [],
   "source": [
    "Statsample::Analysis.store(Statsample::Test::T) do\n",
    "  t = Statsample::Test.t_two_samples_independent(reds['alcohol'], whites['alcohol'])\n",
    "  summary t\n",
    "end\n",
    "Statsample::Analysis.run_batch"
   ]
  },
  {
   "cell_type": "markdown",
   "metadata": {},
   "source": [
    "これも `p < 0.01`を下回ってるので差がある。"
   ]
  },
  {
   "cell_type": "code",
   "execution_count": null,
   "metadata": {},
   "outputs": [],
   "source": [
    "reds['pH'].mean"
   ]
  },
  {
   "cell_type": "code",
   "execution_count": null,
   "metadata": {},
   "outputs": [],
   "source": [
    "whites['pH'].mean"
   ]
  },
  {
   "cell_type": "code",
   "execution_count": null,
   "metadata": {},
   "outputs": [],
   "source": [
    "Statsample::Analysis.store(Statsample::Test::T) do\n",
    "  t = Statsample::Test.t_two_samples_independent(reds['pH'], whites['pH'])\n",
    "  summary t\n",
    "end\n",
    "Statsample::Analysis.run_batch"
   ]
  },
  {
   "cell_type": "code",
   "execution_count": null,
   "metadata": {},
   "outputs": [],
   "source": [
    "plot(wine.corr, type: :heatmap, layout: { width: 500, height: 500 }).show"
   ]
  },
  {
   "cell_type": "code",
   "execution_count": null,
   "metadata": {
    "collapsed": true
   },
   "outputs": [],
   "source": [
    "plot(reds.corr, type: :heatmap, layout: { width: 500, height: 500 }).show"
   ]
  },
  {
   "cell_type": "code",
   "execution_count": null,
   "metadata": {
    "collapsed": true
   },
   "outputs": [],
   "source": [
    "plot(whites.corr, type: :heatmap, layout: { width: 500, height: 500 }).show"
   ]
  }
 ],
 "metadata": {
  "kernelspec": {
   "display_name": "Ruby 2.4.1",
   "language": "ruby",
   "name": "ruby"
  },
  "language_info": {
   "file_extension": ".rb",
   "mimetype": "application/x-ruby",
   "name": "ruby",
   "version": "2.4.1"
  }
 },
 "nbformat": 4,
 "nbformat_minor": 2
}
