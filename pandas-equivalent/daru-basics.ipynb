{
 "cells": [
  {
   "cell_type": "markdown",
   "metadata": {
    "collapsed": false,
    "deletable": true,
    "editable": true
   },
   "source": [
    "# Daruについて\n",
    "\n",
    "DaruはRubyにおける[pandas](http://pandas.pydata.org/)と言えるgemです。\n",
    "pandasは「numpyをさらに便利に扱えるようにラップしたもの」と捉えることが可能で、この機能は一般的に **データフレーム** と呼ばれています。\n",
    "\n",
    "## 未達成の重要課題\n",
    "\n",
    "まずお伝えしたいこととしてDaruではpandasのように「型付配列パッケージのラッピング」がまだ実用に足る形で行われていません。\n",
    "\n",
    "- FILLME\n",
    "- FILLME\n"
   ]
  },
  {
   "cell_type": "markdown",
   "metadata": {
    "collapsed": true,
    "deletable": true,
    "editable": true
   },
   "source": [
    "## 基本的な使い方\n",
    "\n",
    "### オブジェクトの作り方\n",
    "\n"
   ]
  },
  {
   "cell_type": "code",
   "execution_count": null,
   "metadata": {
    "collapsed": true,
    "deletable": true,
    "editable": true
   },
   "outputs": [],
   "source": []
  }
 ],
 "metadata": {
  "kernelspec": {
   "display_name": "Ruby 2.3.1",
   "language": "ruby",
   "name": "ruby"
  },
  "language_info": {
   "file_extension": ".rb",
   "mimetype": "application/x-ruby",
   "name": "ruby",
   "version": "2.3.1"
  }
 },
 "nbformat": 4,
 "nbformat_minor": 2
}
